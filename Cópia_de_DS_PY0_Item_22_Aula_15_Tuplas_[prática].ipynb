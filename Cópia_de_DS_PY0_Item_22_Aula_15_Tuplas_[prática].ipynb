{
  "nbformat": 4,
  "nbformat_minor": 0,
  "metadata": {
    "colab": {
      "provenance": [],
      "include_colab_link": true
    },
    "kernelspec": {
      "name": "python3",
      "display_name": "Python 3"
    },
    "language_info": {
      "name": "python"
    }
  },
  "cells": [
    {
      "cell_type": "markdown",
      "metadata": {
        "id": "view-in-github",
        "colab_type": "text"
      },
      "source": [
        "<a href=\"https://colab.research.google.com/github/Adjalma/Jupyter-notebook/blob/main/C%C3%B3pia_de_DS_PY0_Item_22_Aula_15_Tuplas_%5Bpr%C3%A1tica%5D.ipynb\" target=\"_parent\"><img src=\"https://colab.research.google.com/assets/colab-badge.svg\" alt=\"Open In Colab\"/></a>"
      ]
    },
    {
      "cell_type": "markdown",
      "metadata": {
        "id": "dsu3uJksx-M7"
      },
      "source": [
        "![dnc.png](data:image/png;base64,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)"
      ]
    },
    {
      "cell_type": "markdown",
      "metadata": {
        "id": "Mn_vGqswyBr0"
      },
      "source": [
        "<br>Consultor: Everton Menezes </br>"
      ]
    },
    {
      "cell_type": "markdown",
      "metadata": {
        "id": "vmOiyAlWk7HR"
      },
      "source": [
        "# Tuplas\n",
        "\n",
        "As tuplas são variáveis compostas imutáveis."
      ]
    },
    {
      "cell_type": "markdown",
      "metadata": {
        "id": "sduFqW1z9gzt"
      },
      "source": [
        "<h1> Estrutura </h1>\n",
        "\n",
        "As variáveis comuns só conseguem armazenar 1 valor por vez. \n",
        "\n",
        "Já as tuplas conseguem armazenar diversos valores diferentes dentro de uma só variável. Elas serão muito úteis para nós não precisarmos ficar declarando infinitas variáveis.\n",
        "\n",
        "Para declarar uma tupla basta colocar todos os valores entre parênteses e separados por vírgula.\n",
        "\n",
        "```\n",
        "tupla = ('var1','var2','var'3)\n",
        "```\n",
        "\n",
        "<h3> Exemplo 1 </h3>\n",
        "\n",
        "Defina uma tupla com 3 strings e use o print para ver como ela se apresenta."
      ]
    },
    {
      "cell_type": "code",
      "metadata": {
        "colab": {
          "base_uri": "https://localhost:8080/"
        },
        "id": "nnS9VAsN-U9i",
        "outputId": "d8393255-b31d-4070-e79a-0271bf75d1ac"
      },
      "source": [
        "# Definindo a tupla\n",
        "t1 = ('lanche','batata','refri')\n",
        "# Imprimindo a tupla\n",
        "print(t1)"
      ],
      "execution_count": null,
      "outputs": [
        {
          "output_type": "stream",
          "name": "stdout",
          "text": [
            "('lanche', 'batata', 'refri')\n"
          ]
        }
      ]
    },
    {
      "cell_type": "markdown",
      "metadata": {
        "id": "a2GTHFTn-e8w"
      },
      "source": [
        "<h3> Exemplo 2 </h3>\n",
        "\n",
        "Agora defina outra tupla com valores numéricos"
      ]
    },
    {
      "cell_type": "code",
      "metadata": {
        "colab": {
          "base_uri": "https://localhost:8080/"
        },
        "id": "UCiAcz5p-lrz",
        "outputId": "6e64e051-be48-4cd6-c725-5252522db4a7"
      },
      "source": [
        "# Definindo a tupla\n",
        "t2 = (1,3,5,7)\n",
        "# Imprimindo a tupla\n",
        "print(t2)"
      ],
      "execution_count": null,
      "outputs": [
        {
          "output_type": "stream",
          "name": "stdout",
          "text": [
            "(1, 3, 5, 7)\n"
          ]
        }
      ]
    },
    {
      "cell_type": "markdown",
      "metadata": {
        "id": "F7cR-g2L-v4T"
      },
      "source": [
        "<h3> Exemplo 3 </h3>\n",
        "\n",
        "Agora defina uma tupla com vários tipos de dados dentro da mesma tupla."
      ]
    },
    {
      "cell_type": "code",
      "metadata": {
        "colab": {
          "base_uri": "https://localhost:8080/"
        },
        "id": "uqMm9rbM-3LY",
        "outputId": "32e2ae7d-5bde-404f-a80b-fff49239270e"
      },
      "source": [
        "# Definindo a tupla\n",
        "t3 = ('lanche', 10.9,3, True)\n",
        "# Imprimindo a tupla\n",
        "print(t3)"
      ],
      "execution_count": null,
      "outputs": [
        {
          "output_type": "stream",
          "name": "stdout",
          "text": [
            "('lanche', 10.9, 3, True)\n"
          ]
        }
      ]
    },
    {
      "cell_type": "markdown",
      "metadata": {
        "id": "eal39OVr_Dy5"
      },
      "source": [
        "Observe que as tuplas aceitam qualquer tipo de dado e é possível ter mais de um tipo de dado dentro da mesma tupla."
      ]
    },
    {
      "cell_type": "markdown",
      "metadata": {
        "id": "pd_3l__c_R8c"
      },
      "source": [
        "## Acessando seus Valores\n",
        "\n",
        "Para acessar os valores das tuplas, basta colocar o índice da tupla desejado entre colchetes"
      ]
    },
    {
      "cell_type": "markdown",
      "metadata": {
        "id": "ltKUIPhG_dw4"
      },
      "source": [
        "Cada valor dentro da tupla fica salvo como um índice que começa em 0 e vai aumentando de 1 em 1 até o último termo da tupla.\n",
        "\n",
        "Então para a tupla abaixo:\n",
        "```\n",
        "      [0] [1] [2] [3]\n",
        "t2 = ( 1,  3,  5,  7 )\n",
        "```\n",
        "Os termos dela são:\n",
        "```\n",
        "t2[0] == 1\n",
        "t2[1] == 3\n",
        "t2[2] == 5\n",
        "t2[3] == 7\n",
        "```\n",
        "\n",
        "<h3> Exemplo 1 </h3>\n",
        "\n",
        "Para a tupla acima tente imprimir cada um dos seus valores."
      ]
    },
    {
      "cell_type": "code",
      "metadata": {
        "colab": {
          "base_uri": "https://localhost:8080/"
        },
        "id": "P5IBlss8ATBO",
        "outputId": "e711f3f1-d6f7-4af0-f4ad-15a11cd95658"
      },
      "source": [
        "# Imprimindo\n",
        "print(t2[2])\n",
        "\n",
        "print(t2[0]+t2[1])"
      ],
      "execution_count": null,
      "outputs": [
        {
          "output_type": "stream",
          "name": "stdout",
          "text": [
            "5\n",
            "4\n"
          ]
        }
      ]
    },
    {
      "cell_type": "markdown",
      "metadata": {
        "id": "Cm6sz90-Asbl"
      },
      "source": [
        "<h3> Exemplo 2 </h3>\n",
        "\n",
        "Imprima a soma de cada valor desta tupla"
      ]
    },
    {
      "cell_type": "code",
      "metadata": {
        "colab": {
          "base_uri": "https://localhost:8080/"
        },
        "id": "aeB85E4OAsII",
        "outputId": "bd3a3a09-979b-4105-c02b-3eb9d580263c"
      },
      "source": [
        "# Somando\n",
        "soma = (t2[0]+t2[1]+t2[2]+t2[3])\n",
        "\n",
        "# Imprimindo\n",
        "print(soma)"
      ],
      "execution_count": null,
      "outputs": [
        {
          "output_type": "stream",
          "name": "stdout",
          "text": [
            "16\n"
          ]
        }
      ]
    },
    {
      "cell_type": "markdown",
      "metadata": {
        "id": "TWWTyMYKBFjF"
      },
      "source": [
        "<h2> Acessando múltiplos valores </h2>\n",
        "\n",
        "Também é possível acessar mais de 1 valor ao mesmo tempo colocando entre os colchetes de onde até onde você quer acessar.\n",
        "\n",
        "> `t2[0:2]` : são os 2 primeiros valor desta tupla : `1, 3` <br>\n",
        "> `t2[2:4]` : são o 3º e o 4º valor desta tupla    : `5, 7` <br>\n",
        "> `t2[:3] ` : são os 3 primeiros valor desta tupla : `1, 3, 5` <br>\n",
        "> `t2[2:] ` : é do 3º ao último termo desta tupla  : `5, 7` <br>\n",
        "> `t2[-1] ` : é último termo desta tupla           : `7` <br>\n",
        "\n",
        "Lembre-se que assim como no **range** o último valor dentro do colchete não é acessado.\n",
        "\n",
        "<h3> Exemplo 3 </h3>\n",
        "\n",
        "Vamos testar os itens acima?"
      ]
    },
    {
      "cell_type": "code",
      "metadata": {
        "colab": {
          "base_uri": "https://localhost:8080/"
        },
        "id": "XLLt0WTgCQRY",
        "outputId": "563284db-f89c-49a1-dca5-da6e0526420a"
      },
      "source": [
        "# Imprimindo valores\n",
        "print(t2)\n",
        "print()\n",
        "print(t2[0:2])"
      ],
      "execution_count": null,
      "outputs": [
        {
          "output_type": "stream",
          "name": "stdout",
          "text": [
            "(1, 3, 5, 7)\n",
            "\n",
            "(1, 3)\n"
          ]
        }
      ]
    },
    {
      "cell_type": "markdown",
      "metadata": {
        "id": "hz2HnZOVCvEq"
      },
      "source": [
        "## Tipo e suas propriedades\n",
        "\n",
        "**As tuplas são imutáveis**, ou seja, a partir do momento que ela é declarada ela não pode mais mudar seus valores."
      ]
    },
    {
      "cell_type": "markdown",
      "metadata": {
        "id": "cXA8l9loC8Y9"
      },
      "source": [
        "<h3> Exemplo 1 </h3>\n",
        "\n",
        "Defina uma tupla:\n",
        "\n",
        "t2 = (1, 3, 5, 7)\n",
        "\n",
        "E em seguida tente mudar o seu terceiro valor para 8"
      ]
    },
    {
      "cell_type": "code",
      "metadata": {
        "id": "BDO8mb2sDH0h"
      },
      "source": [
        "# Definindo a tupla\n",
        "\n",
        "# Modificando seu valor\n"
      ],
      "execution_count": null,
      "outputs": []
    },
    {
      "cell_type": "markdown",
      "metadata": {
        "id": "fpCWwixBDSnK"
      },
      "source": [
        "Repare no erro!!! Realmente não é possível mudar o seu valor!\n",
        "\n",
        "**Então para que iremos usá-la?**\n",
        "\n",
        "Já que ela é definida no começo do programa e depois não pode mais ser mudada ela é muito utilizada como variável de segurança para evitar modificações acidentais durante a execução de programas complexos.\n",
        "\n",
        "<h2> Tipo da tupla e de seus valores </h2>\n",
        "\n",
        "A tupla possui o próprio tipo: `tuple`. Porém os valores de cada um dos seus termos permanecem com o tipo original. \n",
        "\n",
        "Mas é claro... se pegarmos vários valores dentro da tupla ele será listado como tupla ainda!!!\n",
        "\n",
        "<h3> Exemplo 2 </h3>\n",
        "\n",
        "Verifique o tipo das variáveis: \n",
        "\n",
        "* `t3`\n",
        "* `t3[0]`\n",
        "* `t3[1]`\n",
        "* `t3[2]`\n",
        "* `t3[0:2]`\n",
        "* `t3[1:]`"
      ]
    },
    {
      "cell_type": "code",
      "metadata": {
        "colab": {
          "base_uri": "https://localhost:8080/"
        },
        "id": "_ymeMBZgEUrq",
        "outputId": "211eeedc-ccd6-467c-c1bb-4c97ad75c71b"
      },
      "source": [
        "# Imprimindo as variáveis e seus tipos.\n",
        "print(t3)\n",
        "print()\n",
        "print(type(t3[0:2]))"
      ],
      "execution_count": null,
      "outputs": [
        {
          "output_type": "stream",
          "name": "stdout",
          "text": [
            "('lanche', 10.9, 3, True)\n",
            "\n",
            "<class 'tuple'>\n"
          ]
        }
      ]
    },
    {
      "cell_type": "markdown",
      "metadata": {
        "id": "FoXuJBiSGeOH"
      },
      "source": [
        "## Funções com Tuplas\n",
        "\n",
        "Temos algumas funções muito usadas em tuplas:\n",
        "\n",
        "> `len(t1)` : qtd de termos <br>\n",
        "> `sorted(t1)` : ordenar <br>\n",
        "> `t1.count(valor)` : contar a qtd de “valor” <br>\n",
        "> `t1.index(valor)` : achar a 1ª posição de “valor” <br>\n",
        "> `t1.index(valor,pos)`\t: achar “valor” a partir da “pos” <br>\n",
        "> `t1 + t2` : concatenar tuplas <br>"
      ]
    },
    {
      "cell_type": "markdown",
      "metadata": {
        "id": "ElzV4i4_HFIr"
      },
      "source": [
        "<h3> Exemplo 3 </h3>\n",
        "\n",
        "Utilizando as tuplas abaixo:\n",
        "\n",
        "```\n",
        "t1 = ('Lanche', 'Batata', 'Refri')\n",
        "t2 = (0, 6, 4, 2, 8, 6, 4)\n",
        "t3 = (1, 3, 3, 5, 3, 5, 7)\n",
        "```\n",
        "Faça:\n",
        "\n",
        "* Calcule o tamanho das tuplas: t1 e t2\n",
        "* Imprima as tuplas ordenadas: t1 e t2 e depois reimprima-as\n",
        "* Conte quantas vezes aparecem o valor 3 na t3\n",
        "* Procure onde aparece o valor 'Refri' na t1\n",
        "* Procure o valor 5 na t3 após o 4º termo\n",
        "* Concatene as tuplas t2 e t3"
      ]
    },
    {
      "cell_type": "code",
      "metadata": {
        "id": "YAs2lUXOIFpg"
      },
      "source": [
        "# Declarando as Tuplas\n",
        "t1 = ('Lanche', 'Batata', 'Refri')\n",
        "t2 = (0, 6, 4, 2, 8, 6, 4)\n",
        "t3 = (1, 3, 3, 5, 3, 5, 7)"
      ],
      "execution_count": null,
      "outputs": []
    },
    {
      "cell_type": "code",
      "metadata": {
        "colab": {
          "base_uri": "https://localhost:8080/"
        },
        "id": "1y7HQGpnIJXR",
        "outputId": "6007713a-2356-4c63-b3d8-edf2569efcfb"
      },
      "source": [
        "# Tamanho das tuplas t1 e t2\n",
        "print(len(t1))"
      ],
      "execution_count": null,
      "outputs": [
        {
          "output_type": "stream",
          "name": "stdout",
          "text": [
            "3\n"
          ]
        }
      ]
    },
    {
      "cell_type": "code",
      "metadata": {
        "colab": {
          "base_uri": "https://localhost:8080/"
        },
        "id": "G8tigKHTIP5j",
        "outputId": "96f12b18-906f-49f6-ea22-fcb100cdaeef"
      },
      "source": [
        "# Imprimindo tuplas ordenadas t1 e t2\n",
        "ordenado = sorted(t2)\n",
        "\n",
        "print(ordenado)\n",
        "# Extra: verifique o tipo da variável ordenada t1\n",
        "print(type(ordenado))"
      ],
      "execution_count": null,
      "outputs": [
        {
          "output_type": "stream",
          "name": "stdout",
          "text": [
            "[0, 2, 4, 4, 6, 6, 8]\n",
            "<class 'list'>\n"
          ]
        }
      ]
    },
    {
      "cell_type": "code",
      "metadata": {
        "colab": {
          "base_uri": "https://localhost:8080/"
        },
        "id": "2yv5jubII5VT",
        "outputId": "09b15b65-2262-4e3f-c168-362b645c0e2b"
      },
      "source": [
        "# Conte quantas vezes aparece 3 na t3\n",
        "contagem = t3.count(3)\n",
        "\n",
        "print(contagem)"
      ],
      "execution_count": null,
      "outputs": [
        {
          "output_type": "stream",
          "name": "stdout",
          "text": [
            "3\n"
          ]
        }
      ]
    },
    {
      "cell_type": "code",
      "metadata": {
        "colab": {
          "base_uri": "https://localhost:8080/"
        },
        "id": "ZSSAVJfNJCB4",
        "outputId": "dfe0e227-edd7-4bc0-d63c-34c7f92e175b"
      },
      "source": [
        "# Aonde aparece 'Refri' na t1\n",
        "print(t1)\n",
        "pos = t1.index('Refri')\n",
        "print(pos)"
      ],
      "execution_count": null,
      "outputs": [
        {
          "output_type": "stream",
          "name": "stdout",
          "text": [
            "('Lanche', 'Batata', 'Refri')\n",
            "2\n"
          ]
        }
      ]
    },
    {
      "cell_type": "code",
      "metadata": {
        "colab": {
          "base_uri": "https://localhost:8080/"
        },
        "id": "CSotjLcsLfUW",
        "outputId": "a429335a-aa2a-4e2c-b96a-f8da0340e553"
      },
      "source": [
        "# Procure valor 5 na t3 após o 4º termo\n",
        "print(t3)\n",
        "\n",
        "pos = t3.index(5,4)\n",
        "print(pos)"
      ],
      "execution_count": null,
      "outputs": [
        {
          "output_type": "stream",
          "name": "stdout",
          "text": [
            "(1, 3, 3, 5, 3, 5, 7)\n",
            "5\n"
          ]
        }
      ]
    },
    {
      "cell_type": "code",
      "metadata": {
        "colab": {
          "base_uri": "https://localhost:8080/"
        },
        "id": "Y-MMuKkKKX5E",
        "outputId": "c794eb9d-373f-473b-8e44-710416d564d6"
      },
      "source": [
        "# Concatene as tuplas t2 e t3\n",
        "print(t2 + t3)\n",
        "# Concatene as tuplas t3 e t2\n",
        "print(t3 + t2)"
      ],
      "execution_count": null,
      "outputs": [
        {
          "output_type": "stream",
          "name": "stdout",
          "text": [
            "(0, 6, 4, 2, 8, 6, 4, 1, 3, 3, 5, 3, 5, 7)\n",
            "(1, 3, 3, 5, 3, 5, 7, 0, 6, 4, 2, 8, 6, 4)\n"
          ]
        }
      ]
    },
    {
      "cell_type": "markdown",
      "metadata": {
        "id": "0_eUOVkKLwCJ"
      },
      "source": [
        "Olhando este último exemplo, aparece a dúvida: e se eu quisesse somar os termos das tuplas? E multiplicar?\n",
        "\n",
        "Para isso teremos que juntar com o conceito das aulas de repetições!!!"
      ]
    },
    {
      "cell_type": "markdown",
      "metadata": {
        "id": "5q-BhbJDL-bt"
      },
      "source": [
        "## Tuplas dentro de For\n",
        "\n",
        "As tuplas possuem vários valores, assim como o range. Portanto podemos rodar um looping de for com os valores diretos de uma lista"
      ]
    },
    {
      "cell_type": "markdown",
      "metadata": {
        "id": "PupUVG7RMM8C"
      },
      "source": [
        "<h2> Estrutura </h2>\n",
        "\n",
        "A partir do momento que a tupla está definida podemos rodar o for utilizando:\n",
        "\n",
        "```\n",
        "for i in tupla:\n",
        "```\n",
        "Quando utilizarmos esse comando em cada passo do loop a variável de controle `i` vai valer cada item da tupla até percorrermos toda a tupla.\n",
        "\n",
        "<h3> Exemplo 1 </h3>\n",
        "\n",
        "Dada a tupla:\n",
        "\n",
        "`t1 = ('Lanche','Refri','Batata')`\n",
        "\n",
        "Imprima seus valores"
      ]
    },
    {
      "cell_type": "code",
      "metadata": {
        "colab": {
          "base_uri": "https://localhost:8080/"
        },
        "id": "mk9F10W1MzRk",
        "outputId": "914c5d0b-a8d6-48ce-8122-989fc4c0e61f"
      },
      "source": [
        "t1 = ('Lanche','Refri','Batata')\n",
        "\n",
        "for i in t1:\n",
        "  print('temos no nosso cardápio: {}'.format(i))\n",
        "print()\n",
        "print('-'*10,\"Fim\",'-'*10)\n",
        "\n",
        "\n",
        "\n"
      ],
      "execution_count": null,
      "outputs": [
        {
          "output_type": "stream",
          "name": "stdout",
          "text": [
            "temos no nosso cardápio: Lanche\n",
            "temos no nosso cardápio: Refri\n",
            "temos no nosso cardápio: Batata\n",
            "\n",
            "---------- Fim ----------\n"
          ]
        }
      ]
    },
    {
      "cell_type": "markdown",
      "metadata": {
        "id": "sYDRDyp8NL0a"
      },
      "source": [
        "<h2> Exemplo 2 <h2>\n",
        "\n",
        "Dado a tupla t2 some todos os seus valores"
      ]
    },
    {
      "cell_type": "code",
      "metadata": {
        "colab": {
          "base_uri": "https://localhost:8080/"
        },
        "id": "nGmEKv2nNSTO",
        "outputId": "893f3f7a-aa82-4e50-84e5-0fa99ff2dfc9"
      },
      "source": [
        "print(t2)\n",
        "soma = 0\n",
        "\n",
        "for i in t2:\n",
        "  soma += i\n",
        "  print('i = {} e a soma = {}'.format(i, soma))\n",
        "print(soma)\n"
      ],
      "execution_count": null,
      "outputs": [
        {
          "output_type": "stream",
          "name": "stdout",
          "text": [
            "(0, 6, 4, 2, 8, 6, 4)\n",
            "i = 0 e a soma = 0\n",
            "i = 6 e a soma = 6\n",
            "i = 4 e a soma = 10\n",
            "i = 2 e a soma = 12\n",
            "i = 8 e a soma = 20\n",
            "i = 6 e a soma = 26\n",
            "i = 4 e a soma = 30\n",
            "30\n"
          ]
        }
      ]
    },
    {
      "cell_type": "markdown",
      "metadata": {
        "id": "6Tij56tONgsE"
      },
      "source": [
        "Observe que nos exemplos acima nós nem precisamos saber qual era o tamanho da tupla para o programa rodar. \n",
        "\n",
        "Mas, e se precisarmos saber qual é o indice de cada valor dentro do loop? Para isso usaremos o:\n",
        "\n",
        "<h1> Enumerate() </h1>\n",
        "\n",
        "Quando usamos essa função dentro da declaração de um for ela vai mostrar para a gente tanto o valor da variável de controle quanto também o índice dela. Só precisamos fazer um pequeno ajuste na sintaxe:\n",
        "\n",
        "```\n",
        "for indice,valor in enumerate(t1):\n",
        "```\n",
        "\n",
        "<h3> Exemplo 1 </h3>\n",
        "\n",
        "Plote os itens da tupla t1, mostrando os seus índices, como se fosse um cardápio"
      ]
    },
    {
      "cell_type": "code",
      "metadata": {
        "colab": {
          "base_uri": "https://localhost:8080/"
        },
        "id": "OrefCfdQOW0W",
        "outputId": "001298ac-f680-48f6-e284-613a25523718"
      },
      "source": [
        "print(t1)\n",
        "\n",
        "for indice, valor in enumerate(t1):\n",
        "  print('para indice = {} nos temos o valor {}'.format(indice, valor))"
      ],
      "execution_count": null,
      "outputs": [
        {
          "output_type": "stream",
          "name": "stdout",
          "text": [
            "('Lanche', 'Refri', 'Batata')\n",
            "para indice = 0 nos temos o valor Lanche\n",
            "para indice = 1 nos temos o valor Refri\n",
            "para indice = 2 nos temos o valor Batata\n"
          ]
        }
      ]
    },
    {
      "cell_type": "markdown",
      "metadata": {
        "id": "-mhMpbhnPqi5"
      },
      "source": [
        "# Exercícios"
      ]
    },
    {
      "cell_type": "markdown",
      "metadata": {
        "id": "BSypkNqYR41J"
      },
      "source": [
        "<h2> Exercício 1 </h2> \n",
        "\n",
        "Dada a tupla abaixo:\n",
        "```\n",
        "t1 = ('Doce', 'Churrasco', 'Bala ', 'Tapioca', 'Pizza ', 'Feijão ', \n",
        "      'Arroz ', 'Açaí ', 'Paçoca ', 'Acarajé', 'Pamonha', 'Dobradinha', 'Rapadura')\n",
        "```\n",
        "Faça um programa que:\n",
        "\n",
        "* O usuário digita uma comida e seu programa diz em qual posição do cardápio esse item está\n",
        "* Printe os itens em ordem alfabética para o usuário"
      ]
    },
    {
      "cell_type": "code",
      "metadata": {
        "id": "8HOJE9nVTF4E",
        "colab": {
          "base_uri": "https://localhost:8080/"
        },
        "outputId": "6d4df323-c16f-4680-cdc7-30d4186c09d9"
      },
      "source": [
        "t1 = ('Doce', 'Churrasco', 'Bala', 'Tapioca', 'Pizza', 'Feijão', \n",
        "      'Arroz', 'Açaí', 'Paçoca', 'Acarajé', 'Pamonha', 'Dobradinha', 'Rapadura')\n",
        "print(sorted(t1))\n",
        "x = input('Digite a comida preterida: ')\n",
        "\n",
        "print(t1.index(x))\n",
        "\n",
        "print('-'*10,\"Fim\",'-'*10)\n"
      ],
      "execution_count": null,
      "outputs": [
        {
          "output_type": "stream",
          "name": "stdout",
          "text": [
            "['Acarajé', 'Arroz', 'Açaí', 'Bala', 'Churrasco', 'Dobradinha', 'Doce', 'Feijão', 'Pamonha', 'Paçoca', 'Pizza', 'Rapadura', 'Tapioca']\n",
            "Digite a comida preterida: Bala\n",
            "2\n",
            "---------- Fim ----------\n"
          ]
        }
      ]
    },
    {
      "cell_type": "markdown",
      "metadata": {
        "id": "PGL1a2EATGX2"
      },
      "source": [
        "<h2> Exercício 2 </h2> \n",
        "\n",
        "Dado a tupla abaixo:\n",
        "```\n",
        "t1 = ('Doce', 2.3, 'Bala ', 0.15, 'Pizza ', 28.9, 'Arroz ', 4.5, 'Paçoca ', 0.5, 'Pamonha', 5.4)\n",
        "```\n",
        "Os dados estão organizados de forma que tem o valor do produto e logo após o seu preço. Faça um programa que:\n",
        "\n",
        "* Mostre o cardápio de forma organizada\n",
        "\n",
        "Resultado esperado: \n",
        "\n",
        "![image.png](data:image/png;base64,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)"
      ]
    },
    {
      "cell_type": "code",
      "metadata": {
        "colab": {
          "base_uri": "https://localhost:8080/"
        },
        "id": "3A_9u0rfTd_U",
        "outputId": "c2fff6b7-de65-439c-83ee-ca91e302b643"
      },
      "source": [
        "t1 = ('Doce', 2.3, 'Bala ', 0.15, 'Pizza ', 28.9, 'Arroz ', 4.5, 'Paçoca ', 0.5, 'Pamonha', 5.4)\n",
        "print('-'*42)\n",
        "print('-'*16,'Cardápio','-'*16)\n",
        "print('-'*42)\n",
        "\n",
        "\n",
        "print(t1[0],'.'*25,' ',': R$',t1[1])\n",
        "print(t1[2],'.'*24,' ',': R$',t1[3])\n",
        "print(t1[4],'.'*23,' ',': R$',t1[5])\n",
        "print(t1[6],'.'*23,' ',': R$',t1[7])\n",
        "print(t1[8],'.'*22,' ',': R$',t1[9])\n",
        "print(t1[10],'.'*22,' ',': R$',t1[11])\n",
        "\n",
        "print('-'*42)\n",
        "\n",
        "\n",
        "\n"
      ],
      "execution_count": null,
      "outputs": [
        {
          "output_type": "stream",
          "name": "stdout",
          "text": [
            "------------------------------------------\n",
            "---------------- Cardápio ----------------\n",
            "------------------------------------------\n",
            "Doce .........................   : R$ 2.3\n",
            "Bala  ........................   : R$ 0.15\n",
            "Pizza  .......................   : R$ 28.9\n",
            "Arroz  .......................   : R$ 4.5\n",
            "Paçoca  ......................   : R$ 0.5\n",
            "Pamonha ......................   : R$ 5.4\n",
            "------------------------------------------\n"
          ]
        }
      ]
    },
    {
      "cell_type": "code",
      "source": [],
      "metadata": {
        "id": "1peem3uiz81E"
      },
      "execution_count": null,
      "outputs": []
    },
    {
      "cell_type": "markdown",
      "metadata": {
        "id": "gPtEDsZgVM5f"
      },
      "source": [
        "<h2> Exercício 3 </h2> \n",
        "\n",
        "Dado a mesma tupla do exercício anterior faça um programa que:\n",
        "\n",
        "* O usuário visualiza o cardápio e digita qual item ele quer comprar. A seguir pergunta se ele quer algo a mais. Caso ele queira vai somando todos os valores do pedido numa variável `soma`. \n",
        "* No final printe para o usuário o valor total da conta dele"
      ]
    },
    {
      "cell_type": "code",
      "source": [
        "t1 = ('Doce', 2.3, 'Bala ', 0.15, 'Pizza ', 28.9, 'Arroz ', 4.5, 'Paçoca ', 0.5, 'Pamonha', 5.4)\n",
        "print('-'*30)\n",
        "print(f'{\"Cardápio\":^30}')\n",
        "print('-'*30)\n",
        "for pos in range(0,len(t1)):\n",
        "  if pos % 2 == 0:\n",
        "    print(f'{t1[pos]:.<20}', end='')\n",
        "  else:\n",
        "    print(f'R${t1[pos]:>6.2f}')\n",
        "print('-'*30)\n",
        "\n",
        "soma = 0\n",
        "i = 0\n",
        "mais = 's'\n",
        "\n",
        "while mais == 's':\n",
        "\n",
        "  carrinho = input(\"Digite a sua escolha do cardápio: \")\n",
        " \n",
        "  if carrinho == 'Doce':\n",
        "    i = t1[1]\n",
        "   \n",
        "  elif carrinho == 'Bala':\n",
        "    i = t1[3]\n",
        "   \n",
        "  elif carrinho == 'Pizza':\n",
        "    i = t1[5]\n",
        "   \n",
        "  elif carrinho == 'Arroz':\n",
        "    i = t1[7]\n",
        "   \n",
        "  elif carrinho == 'Paçoca':\n",
        "    i = t1[9]\n",
        "   \n",
        "  elif carrinho == 'Pamonha':\n",
        "    i = t1[11]  \n",
        "\n",
        "  soma = soma + i\n",
        "  mais = input(\"Você quer continuar a adicionar mais itens? (s/n): \")\n",
        "\n",
        "print('O valor total da sua conta é: R${:.2f}.'.format(soma))"
      ],
      "metadata": {
        "colab": {
          "base_uri": "https://localhost:8080/"
        },
        "id": "NvZmvzVH60ZD",
        "outputId": "4d6e6039-fa67-4934-9c1f-242f4c735dca"
      },
      "execution_count": null,
      "outputs": [
        {
          "output_type": "stream",
          "name": "stdout",
          "text": [
            "------------------------------\n",
            "           Cardápio           \n",
            "------------------------------\n",
            "Doce................R$  2.30\n",
            "Bala ...............R$  0.15\n",
            "Pizza ..............R$ 28.90\n",
            "Arroz ..............R$  4.50\n",
            "Paçoca .............R$  0.50\n",
            "Pamonha.............R$  5.40\n",
            "------------------------------\n",
            "Digite a sua escolha do cardápio: Doce\n",
            "Você quer continuar a adicionar mais itens? (s/n): s\n",
            "Digite a sua escolha do cardápio: Bala\n",
            "Você quer continuar a adicionar mais itens? (s/n): n\n",
            "O valor total da sua conta é: R$2.45.\n"
          ]
        }
      ]
    }
  ]
}