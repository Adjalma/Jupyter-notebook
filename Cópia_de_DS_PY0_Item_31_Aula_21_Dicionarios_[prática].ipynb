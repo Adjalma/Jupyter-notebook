{
  "nbformat": 4,
  "nbformat_minor": 0,
  "metadata": {
    "colab": {
      "provenance": [],
      "include_colab_link": true
    },
    "kernelspec": {
      "name": "python3",
      "display_name": "Python 3"
    },
    "language_info": {
      "name": "python"
    }
  },
  "cells": [
    {
      "cell_type": "markdown",
      "metadata": {
        "id": "view-in-github",
        "colab_type": "text"
      },
      "source": [
        "<a href=\"https://colab.research.google.com/github/Adjalma/Jupyter-notebook/blob/main/C%C3%B3pia_de_DS_PY0_Item_31_Aula_21_Dicionarios_%5Bpr%C3%A1tica%5D.ipynb\" target=\"_parent\"><img src=\"https://colab.research.google.com/assets/colab-badge.svg\" alt=\"Open In Colab\"/></a>"
      ]
    },
    {
      "cell_type": "markdown",
      "metadata": {
        "id": "dsu3uJksx-M7"
      },
      "source": [
        "![dnc.png](data:image/png;base64,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)"
      ]
    },
    {
      "cell_type": "markdown",
      "metadata": {
        "id": "Mn_vGqswyBr0"
      },
      "source": [
        "<br>Consultor: Everton Menezes </br>"
      ]
    },
    {
      "cell_type": "markdown",
      "metadata": {
        "id": "99zA4INuNrJx"
      },
      "source": [
        "# Dicionários\n",
        "Os dicionários são listas com índices textuais."
      ]
    },
    {
      "cell_type": "markdown",
      "metadata": {
        "id": "GZhm7ESUUr1N"
      },
      "source": [
        "Os dicionários são estruturas de dados semelhantes às listas, porém, as posições ao invés de serem numéricas são chaves.\n",
        "\n",
        "<h3> Lista </h3>\n",
        "\n",
        "```\n",
        "lista = ['Everton', 29, 'São José']\n",
        "```\n",
        "\n",
        "<h3> Dicionários </h3>\n",
        "\n",
        "```\n",
        "dicio = {'nome': 'Everton', \n",
        "        'idade': 29, \n",
        "       'cidade': 'São José'}\n",
        "```\n",
        "\n",
        "<h3> Exemplo 1 </h3>\n",
        "\n",
        "Declare e imprima as duas listas acima exatamente como estão.\n"
      ]
    },
    {
      "cell_type": "code",
      "metadata": {
        "colab": {
          "base_uri": "https://localhost:8080/"
        },
        "id": "fQaspB-YGbno",
        "outputId": "f39da88f-f452-4155-fe96-a548c8065517"
      },
      "source": [
        "#Lista:\n",
        "lista = ['Everton', 29, 'São José']\n",
        "print(lista)\n",
        "\n",
        "#Dicionário equivalente.\n",
        "dicio = {\n",
        "        'nome':'Everton',\n",
        "        'idade': 29,\n",
        "       'cidade':'São José'\n",
        "}\n",
        "print(dicio)\n"
      ],
      "execution_count": null,
      "outputs": [
        {
          "output_type": "stream",
          "name": "stdout",
          "text": [
            "['Everton', 29, 'São José']\n",
            "{'nome': 'Everton', 'idade': 29, 'cidade': 'São José'}\n"
          ]
        }
      ]
    },
    {
      "cell_type": "markdown",
      "metadata": {
        "id": "6MV4Lfcno0bp"
      },
      "source": [
        "Comparando os dois resultados vemos que os índices numéricos são substituídos por chaves textuais:\n",
        "\n",
        "```\n",
        "              [0]        [1]            [2]\n",
        "lista = [ 'Everton' ,     29      , 'São José']\n",
        "```\n",
        "Então para acessarmos os valores exatos da lista que a gente deseja é necessário saber o que cada posição significa senão faremos análises erradas.\n",
        "\n",
        "Já no dicionário fica assim:\n",
        "```\n",
        "            'nome':     'idade':     'cidade:\n",
        "dicio = { 'Everton' ,     29      , 'São José'}\n",
        "```\n",
        "Muito similar às colunas de uma tabela ou banco de dados.\n"
      ]
    },
    {
      "cell_type": "markdown",
      "metadata": {
        "id": "mSCSNOjdo0Rk"
      },
      "source": [
        "## Estrutura de um Dicionário.\n",
        "\n",
        "A estrutura de um dicionário é baseada em 3 pontos importantes: **keys**, **values** e **items**"
      ]
    },
    {
      "cell_type": "markdown",
      "metadata": {
        "id": "vtc8ZNF9qpRq"
      },
      "source": [
        "Vamos observar de novo a dicionário de exemplo:\n",
        "\n",
        "```\n",
        "         'keys'  : values\n",
        "dicio = {\n",
        "         'nome'  : 'Everton',       -> items\n",
        "         'idade' :  29, \n",
        "         'cidade': 'São José'\n",
        "        }\n",
        "```\n",
        "> As `keys` são as chaves, o que substituem as posições de uma lista. Quando quisermos acessar um valor de um dicionário é dessa chave que temos que lembrar. Assim como num Banco de Dados são as colunas que vamos acessar que precisamos saber os nomes. </br>\n",
        "> Os `values` são os valores, o equivalente aos valores dentro de uma lista. São as informações importantes do objeto que queremos acessar e fazer análises. </br>\n",
        "> Os `items` são o conjunto de `key + value`, uma novidade dos dicionários que irão nos ajudar nos loopings."
      ]
    },
    {
      "cell_type": "markdown",
      "metadata": {
        "id": "MY1xIh9ctB-2"
      },
      "source": [
        "## Manipulando um Dicionário"
      ]
    },
    {
      "cell_type": "markdown",
      "metadata": {
        "id": "4z8-G4LtxUW3"
      },
      "source": [
        "<h2> Declarando um dicionário </h2>\n",
        "\n",
        "Todo dicionário é declarado pelas `{ }`\n",
        "\n",
        "* Declarando um dicionário vazio:\n",
        "```\n",
        "dic1 = {}\n",
        "dic2 = dict()\n",
        "```\n",
        "* Declarando um dicionário já preenchido.\n",
        "```\n",
        "dic3 = {\n",
        "        'key1' : 'value1',\n",
        "        'key2' : 'value2',\n",
        "        'key3' : 'value3'\n",
        "       }\n",
        "```\n",
        "<h3> Pontos de atenção na declaração </h3>\n",
        "\n",
        "* todas as `keys` são strings e, portanto, devem estar entre aspas\n",
        "* os `values` podem ser qualquer tipo de dado e/ou estrutura: `str`, `int`, `float`, `bool`, `list`, `tuple`, `dict`, ...\n",
        "* a declaração direta de valor para uma chave sempre é feita com `:`\n",
        "* embora não seja necessário é comum declarar um dicionário dando \"*enter*\" entre cada chave para ficar visualmente mais fácil de ler no programa.\n",
        "\n",
        "<h3> Exemplo 2 </h3>\n",
        "Imprima os três dicionários acima e veja se você declarou corretamente."
      ]
    },
    {
      "cell_type": "code",
      "metadata": {
        "colab": {
          "base_uri": "https://localhost:8080/"
        },
        "id": "e7XMflNuzMEr",
        "outputId": "c2ffb83c-0374-4c6e-9845-78be90b65c91"
      },
      "source": [
        "# Declarando dicionários\n",
        "dic1 = {}\n",
        "dic2 = dict()\n",
        "dic3 = {\n",
        "      'key1' : 'value1',\n",
        "      'key2' : 'value2',\n",
        "      'key3' : 'value3'\n",
        "     }\n",
        "# Imprimindo\n",
        "print(dic1)\n",
        "print(dic2)\n",
        "print(dic3)"
      ],
      "execution_count": null,
      "outputs": [
        {
          "output_type": "stream",
          "name": "stdout",
          "text": [
            "{}\n",
            "{}\n",
            "{'key1': 'value1', 'key2': 'value2', 'key3': 'value3'}\n"
          ]
        }
      ]
    },
    {
      "cell_type": "markdown",
      "metadata": {
        "id": "vDe1gxYrzgrs"
      },
      "source": [
        "Assim como nas listas a declaração de dicionários vazios são ótimos para quando os valores do dicionário precisam ser declarados pelo usuário ou lidos de alguma fonte externa.\n",
        "\n",
        "<h2> Acessando os valores </h2>\n",
        "\n",
        "```\n",
        "dicio['key'] == value\n",
        "```\n",
        "Acessar os valores de um dicionário é muito similar a acessar os valores de uma lista. Só que no lugar da `posição` usamos as `chaves`\n",
        "\n",
        "<h3> Exemplo 3 </h3>\n",
        "Dado o dicionário abaixo acesse cada um de seus valores.\n",
        "\n",
        "```\n",
        "pessoa = {\n",
        "         'nome'  : 'Everton',\n",
        "         'idade' :  29, \n",
        "         'cidade': 'São José'\n",
        "}\n",
        "```"
      ]
    },
    {
      "cell_type": "code",
      "metadata": {
        "colab": {
          "base_uri": "https://localhost:8080/"
        },
        "id": "3UWk9Qbt0ZLT",
        "outputId": "01f69e53-68e0-4679-bdd4-a738cf9259f4"
      },
      "source": [
        "# Declarando dicionário:\n",
        "pessoa = {\n",
        "         'nome'  : 'Everton',\n",
        "         'idade' :  29, \n",
        "         'cidade': 'São José'\n",
        "}\n",
        "\n",
        "# Acessando os valores:\n",
        "print(pessoa['nome'])\n",
        "print(pessoa['idade'])\n",
        "print(pessoa['cidade'])"
      ],
      "execution_count": null,
      "outputs": [
        {
          "output_type": "stream",
          "name": "stdout",
          "text": [
            "Everton\n",
            "29\n",
            "São José\n"
          ]
        }
      ]
    },
    {
      "cell_type": "code",
      "source": [],
      "metadata": {
        "id": "kt0Cb4RXM44S"
      },
      "execution_count": null,
      "outputs": []
    },
    {
      "cell_type": "markdown",
      "metadata": {
        "id": "9VlHNRy00nV3"
      },
      "source": [
        "<h2> Modificando os valores </h2>\n",
        "\n",
        "```\n",
        "dicio['key'] = value\n",
        "```\n",
        "Similar à listas, se atribuirmos valor a uma posição/chave já modificamos o valor da chave do dicionário.\n",
        "\n",
        "<h3> Exemplo 4 </h3>\n",
        "Usando o mesmo dicionário: `pessoa`, modifique a chave `'cidade'` para `'São Paulo'` e imprima o resultado."
      ]
    },
    {
      "cell_type": "code",
      "metadata": {
        "colab": {
          "base_uri": "https://localhost:8080/"
        },
        "id": "Wn1f-PUd1Qx5",
        "outputId": "812beaa3-b427-4bce-aa8b-c95c90c4c2c4"
      },
      "source": [
        "# Modificando o valor:\n",
        "pessoa['cidade'] = 'São Paulo'\n",
        "\n",
        "# Imprimindo valores:\n",
        "print(pessoa['cidade'])"
      ],
      "execution_count": null,
      "outputs": [
        {
          "output_type": "stream",
          "name": "stdout",
          "text": [
            "São Paulo\n"
          ]
        }
      ]
    },
    {
      "cell_type": "markdown",
      "metadata": {
        "id": "7IjS-9ls1p90"
      },
      "source": [
        "<h2> Criando nova chave </h2>\n",
        "\n",
        "```\n",
        "dicio['key'] = value\n",
        "```\n",
        "Para criar uma nova chave é exatamente igual a modificar uma chave. A partir do momento que atribuimos um valor o Python verifica se aquela chave já existe no dicionário. Caso não exista ele cria uma nova automaticamente.\n",
        "\n",
        "<h3> Exemplo 5 </h3>\n",
        "\n",
        "Usando o mesmo dicionário: `pessoa`, crie uma chave `'peso'` com valor de `65` e imprima o resultado."
      ]
    },
    {
      "cell_type": "code",
      "metadata": {
        "colab": {
          "base_uri": "https://localhost:8080/"
        },
        "id": "BckVwl-a2KhQ",
        "outputId": "77df828c-bf62-41a6-aab9-fb2cf7097dfa"
      },
      "source": [
        "# Criando uma chave:\n",
        "pessoa['peso'] = 65\n",
        "pessoa['Cidade'] = \"São paulo\"\n",
        "# Imprimindo valores:\n",
        "print(pessoa)"
      ],
      "execution_count": null,
      "outputs": [
        {
          "output_type": "stream",
          "name": "stdout",
          "text": [
            "{'nome': 'Everton', 'idade': 29, 'cidade': 'São Paulo', 'peso': 65, 'Cidade': 'São paulo'}\n"
          ]
        }
      ]
    },
    {
      "cell_type": "markdown",
      "metadata": {
        "id": "Fo46GxPM2SzU"
      },
      "source": [
        "<h2> CUIDADO na declaração de novas chaves </h2>\n",
        "\n",
        "O Python é *Case Sensitive*, ou seja, se você tentar modificar o valor de uma chave mas não colocar o nome da chave exatamente igual você acabará criando uma nova chave.\n",
        "\n",
        "<h4> Sempre teste seus programas conforme for codando!!! </h4>\n",
        "\n",
        "<h3> Exemplo 6 </h3>\n",
        "\n",
        "Usando o mesmo dicionário: `pessoa`, crie uma chave `'Cidade'` com valor de `'São José'` e imprima o dicionário completo.\n"
      ]
    },
    {
      "cell_type": "code",
      "metadata": {
        "colab": {
          "base_uri": "https://localhost:8080/"
        },
        "id": "t5HIHPz-275n",
        "outputId": "62e7b92c-df66-4571-8bb4-f1be0adcd26e"
      },
      "source": [
        "# Criando uma chave:\n",
        "pessoa['cidade'] = \"São paulo\"\n",
        "pessoa['Cidade'] = \"São paulo\"\n",
        "# Imprimindo valores:\n",
        "print(pessoa)"
      ],
      "execution_count": null,
      "outputs": [
        {
          "output_type": "stream",
          "name": "stdout",
          "text": [
            "{'nome': 'Everton', 'idade': 29, 'cidade': 'São paulo', 'peso': 65, 'Cidade': 'São paulo'}\n"
          ]
        }
      ]
    },
    {
      "cell_type": "markdown",
      "metadata": {
        "id": "uN36AhyW3IkN"
      },
      "source": [
        "Repare que agora temos 2 chaves \"similares\". Siga sempre o mesmo padrão de criação de nome de variáveis, listas, chaves, dicionários e etc para reduzir esse risco.\n",
        "\n",
        "Sempre analise as atuais chaves de um objeto antes de editá-lo de qualquer maneira.\n",
        "\n",
        "<h2> Deletando uma chave com seu valor </h2>\n",
        "\n",
        "```\n",
        "del dicio['chave']\n",
        "```\n",
        "Muito similar ao que fazíamos em listas, podemos usar o comando `del`\n",
        "\n",
        "<h3> Exemplo 7 </h3>\n",
        "\n",
        "Usando o mesmo dicionário: `pessoa` , delete a chave `'Cidade'` e imprima o dicionário completo."
      ]
    },
    {
      "cell_type": "code",
      "metadata": {
        "colab": {
          "base_uri": "https://localhost:8080/"
        },
        "id": "K99JuwZS39RZ",
        "outputId": "ed61ce4e-f66e-4be6-d806-aa4cce19f2d7"
      },
      "source": [
        "# Deletando uma chave:\n",
        "del pessoa['Cidade']\n",
        "\n",
        "# Imprimindo valores:\n",
        "print(pessoa)\n",
        "\n"
      ],
      "execution_count": null,
      "outputs": [
        {
          "output_type": "stream",
          "name": "stdout",
          "text": [
            "{'nome': 'Everton', 'idade': 29, 'cidade': 'São paulo', 'peso': 65}\n"
          ]
        }
      ]
    },
    {
      "cell_type": "markdown",
      "metadata": {
        "id": "W8dv8FqsAF8r"
      },
      "source": [
        "<h2> Acessando o dicionário </h2>\n",
        "\n",
        "```\n",
        "dicio          #dicionário completo\n",
        "dicio.values()  #somente os valores do dicionário\n",
        "dicio.keys()   #somente as chaves do dicionário\n",
        "dicio.items()  #chaves + valores do dicionário (usado em loopings)\n",
        "```\n",
        "Como visto anteriormente, os dicionários possuem 3 itens principais, e usaremos eles para acessar parâmetros específicos dos dicionários.\n",
        "\n",
        "<h3> Exemplo 8 </h3>\n",
        "\n",
        "Usando o mesmo dicionário: `pessoa` ,imprima cada um dos itens acima. "
      ]
    },
    {
      "cell_type": "code",
      "metadata": {
        "colab": {
          "base_uri": "https://localhost:8080/"
        },
        "id": "YBvEEABIA4wl",
        "outputId": "7dfa78d2-91aa-4f51-bce1-ca35d7528448"
      },
      "source": [
        "#Imprimindo valores\n",
        "print(dicio)\n",
        "print(dicio.values())\n",
        "print(dicio.keys())\n",
        "print(dicio.items())"
      ],
      "execution_count": null,
      "outputs": [
        {
          "output_type": "stream",
          "name": "stdout",
          "text": [
            "{'nome': 'Everton', 'idade': 29, 'cidade': 'São José'}\n",
            "dict_values(['Everton', 29, 'São José'])\n",
            "dict_keys(['nome', 'idade', 'cidade'])\n",
            "dict_items([('nome', 'Everton'), ('idade', 29), ('cidade', 'São José')])\n"
          ]
        }
      ]
    },
    {
      "cell_type": "markdown",
      "metadata": {
        "id": "yl5duH1QBl_0"
      },
      "source": [
        "Repare que os 3 itens acabaram ficando parecidos com uma lista. Se usarmos o comando `list()` podemos até converter cada um desses itens em listas para trabalharmos de outras maneiras."
      ]
    },
    {
      "cell_type": "markdown",
      "metadata": {
        "id": "2z9VVPj6B3XI"
      },
      "source": [
        "## Dicionários dentro de for\n",
        "\n",
        "É comum utilizarmos os dicionários dentro de loopings para fazermos as análises. E para isso usaremos os 3 itens vistos acima: `values`,`keys` e `items`"
      ]
    },
    {
      "cell_type": "markdown",
      "metadata": {
        "id": "kSBNuGcuCkBs"
      },
      "source": [
        "<h2> Acessando os valores </h2>\n",
        "\n",
        "```\n",
        "for v in dicio.values():\n",
        "  print(v)\n",
        "```\n",
        "Acima entende-se: *Para cada valor dentro dos valores do dicionário, imprima valor*\n",
        "\n",
        "<h3> Exemplo 9 </h3>\n",
        "\n",
        "Considerando o dicionário `pessoa` imprima cada um de seus valores"
      ]
    },
    {
      "cell_type": "code",
      "metadata": {
        "colab": {
          "base_uri": "https://localhost:8080/"
        },
        "id": "hXqfa7flDCeZ",
        "outputId": "f2e02f9d-89f2-42b7-f5c4-d3e0855ae9c8"
      },
      "source": [
        "#Imprimindo valores\n",
        "for v in dicio.values():\n",
        "  print(f'O valor é:{v}')\n",
        "  \n"
      ],
      "execution_count": null,
      "outputs": [
        {
          "output_type": "stream",
          "name": "stdout",
          "text": [
            "O valor é:Everton\n",
            "O valor é:29\n",
            "O valor é:São José\n"
          ]
        }
      ]
    },
    {
      "cell_type": "markdown",
      "metadata": {
        "id": "cl5af-1KDSxj"
      },
      "source": [
        "<h2> Acessando as chaves </h2>\n",
        "\n",
        "```\n",
        "for k in dicio.keys():\n",
        "  print(k)\n",
        "```\n",
        "Acima entende-se: *Para cada chave dentro das chaves do dicionário, imprima chave*\n",
        "\n",
        "<h3> Exemplo 10 </h3>\n",
        "\n",
        "Considerando o dicionário `pessoa` imprima cada um de suas chaves"
      ]
    },
    {
      "cell_type": "code",
      "metadata": {
        "colab": {
          "base_uri": "https://localhost:8080/"
        },
        "id": "4OHgzd6FDkG3",
        "outputId": "100b7fd5-a2d9-4741-fac2-dd3edfff62b2"
      },
      "source": [
        "#Imprimindo chaves\n",
        "for k in dicio.keys():\n",
        "  print(f'A chave é: {k}')\n"
      ],
      "execution_count": null,
      "outputs": [
        {
          "output_type": "stream",
          "name": "stdout",
          "text": [
            "A chave é: nome\n",
            "A chave é: idade\n",
            "A chave é: cidade\n"
          ]
        }
      ]
    },
    {
      "cell_type": "markdown",
      "metadata": {
        "id": "BKYDSdbhDyzD"
      },
      "source": [
        "<h2> Acessando os items </h2>\n",
        "\n",
        "```\n",
        "for k, v in dicio.items():\n",
        "  print(k, v)\n",
        "```\n",
        "Acima entende-se: *Para cada chave e valor dentro dos itens do dicionário, imprima chave e valor*\n",
        "\n",
        "<h3> Exemplo 11 </h3>\n",
        "\n",
        "Considerando o dicionário `pessoa` imprima cada uma de suas chaves e respectivos valores."
      ]
    },
    {
      "cell_type": "code",
      "metadata": {
        "colab": {
          "base_uri": "https://localhost:8080/"
        },
        "id": "lmg-hC-fEHba",
        "outputId": "bc93e5f1-ce79-49e7-e8b2-d88bd984a507"
      },
      "source": [
        "#Imprimindo chaves e valores\n",
        "for k, v in dicio.items():\n",
        "  print(f'O(a) {k} é: {v}')\n"
      ],
      "execution_count": null,
      "outputs": [
        {
          "output_type": "stream",
          "name": "stdout",
          "text": [
            "O(a) nome é: Everton\n",
            "O(a) idade é: 29\n",
            "O(a) cidade é: São José\n"
          ]
        }
      ]
    },
    {
      "cell_type": "markdown",
      "metadata": {
        "id": "0lNHLBSrEfNv"
      },
      "source": [
        "<h2> Exercício 1 </h2>\n",
        "\n",
        "Dado dicionário abaixo:\n",
        "```\n",
        "cardapio = {\n",
        "            'lanche' : 10.9,\n",
        "            'batata' : 5.5,\n",
        "            'refri' : 3.9\n",
        "}\n",
        "```\n",
        "1. Mostre o cardápio para o usuário\n",
        "2. Pergunte quantos itens ele quer de cada\n",
        "3. Calcule e mostre pra ele o valor total da conta"
      ]
    },
    {
      "cell_type": "code",
      "metadata": {
        "colab": {
          "base_uri": "https://localhost:8080/"
        },
        "id": "srLT4i4JFGgQ",
        "outputId": "0a5cc442-8577-439b-f63f-a6ed023f462e"
      },
      "source": [
        "# Declarando dicionário\n",
        "cardapio = {\n",
        "            'lanche' : 10.9,\n",
        "            'batata' : 5.5,\n",
        "            'refri' : 3.9\n",
        "}\n",
        "\n",
        "# 1. Mostrando cardápio:\n",
        "print('-'*40)\n",
        "print('-'*15, 'CARDAPIO', '-'*15)\n",
        "for k, v in cardapio.items():\n",
        "  print(f'{k:.<32} R${v:5.2f}')\n",
        "print('-'*40)  \n",
        "\n",
        "# 2. Perguntando quantos itens ele quer de cada.\n",
        "qtd = {}\n",
        "for k in cardapio.keys():\n",
        "  qtd[k] = int(input(f'Quantos {k} você quer? '))\n",
        "print('-'*40)  \n",
        "\n",
        "# 3. Calculando o valor total:\n",
        "soma = 0\n",
        "for v1, v2 in zip(cardapio.values(), qtd.values()):\n",
        "  soma += v1 *v2\n",
        "  \n",
        "# Imprimindo recibo:\n",
        "print('-'*40)\n",
        "print('-'*16, 'RECIBO', '-'*16)\n",
        "for k, v in qtd.items():\n",
        " print(f'{v} {k:.<27} = R${v * cardapio[k]:5.2f}')\n",
        "print('-'*40)\n",
        "print(f'O valor total é de: R$............{soma:.2f}')\n"
      ],
      "execution_count": null,
      "outputs": [
        {
          "output_type": "stream",
          "name": "stdout",
          "text": [
            "----------------------------------------\n",
            "--------------- CARDAPIO ---------------\n",
            "lanche.......................... R$10.90\n",
            "batata.......................... R$ 5.50\n",
            "refri........................... R$ 3.90\n",
            "----------------------------------------\n",
            "Quantos lanche você quer? 2\n",
            "Quantos batata você quer? 2\n",
            "Quantos refri você quer? 2\n",
            "----------------------------------------\n",
            "----------------------------------------\n",
            "---------------- RECIBO ----------------\n",
            "2 lanche..................... = R$21.80\n",
            "2 batata..................... = R$11.00\n",
            "2 refri...................... = R$ 7.80\n",
            "----------------------------------------\n",
            "O valor total é de: R$............40.60\n"
          ]
        }
      ]
    },
    {
      "cell_type": "markdown",
      "metadata": {
        "id": "0xidZSTxJB0G"
      },
      "source": [
        "## Dicionários dentro de listas\n",
        "\n",
        "Se os dicionários são como se fossem colunas de uma tabela, as listas são como as suas linhas, formando uma tabela completa."
      ]
    },
    {
      "cell_type": "markdown",
      "metadata": {
        "id": "Q8f8wJaWJlRX"
      },
      "source": [
        "<h2> Estrutura </h2>\n",
        "\n",
        "Imaginando uma tabela, temos:\n",
        "\n",
        "```\n",
        "  linhas    'key1':  'key2':  'key3':\n",
        "    [0]     valor11  valor12  valor13\n",
        "    [1]     valor21  valor22  valor23\n",
        "    [2]     valor31  valor32  valor33        \n",
        "\n",
        "```\n",
        "\n",
        "Imaginando que cada linha é uma lista, temos:\n",
        "\n",
        "```\n",
        "lista1 = [value11 , value12 , value13],\n",
        "lista2 = [value21 , value22 , value23],\n",
        "lista3 = [value31 , value32 , value33]\n",
        "```\n",
        "\n",
        "Colocando cada valor e sua respectiva chave dentro dos dicionários, temos:\n",
        "\n",
        "```\n",
        "lista[0] = {'key1': value11, 'key2': value21, 'key3': value31},\n",
        "lista[1] = {'key1': value21, 'key2': value22, 'key3': value32},\n",
        "lista[2] = {'key1': value31, 'key2': value23, 'key3': value33}\n",
        "```\n",
        "\n",
        "Agrupando tudo isso, temos:\n",
        "\n",
        "```\n",
        "lista = [\n",
        "        {'key1': value11, 'key2': value21, 'key3': value31},\n",
        "        {'key1': value21, 'key2': value22, 'key3': value32},\n",
        "        {'key1': value31, 'key2': value23, 'key3': value33}\n",
        "]\n",
        "```\n",
        "\n",
        "<h2> Exemplo 12 </h2>\n",
        "Dada a lista de dicionários abaixo, faça:\n",
        "\n",
        "```\n",
        "pessoas = [\n",
        "          {'nome':'Everton' , 'idade':29 , 'cidade':'São José'},\n",
        "          {'nome':'Thiago' , 'idade':34 , 'cidade':'São Paulo'},\n",
        "          {'nome':'André' , 'idade':22 , 'cidade':'Lorena'}\n",
        "]\n",
        "```\n",
        "\n",
        "1. Imprima cada posição da lista (sem usar for)\n",
        "2. Imprima: o nome da pessoa 1, a idade da pessoa 2, e a cidade da pessoa 3"
      ]
    },
    {
      "cell_type": "code",
      "metadata": {
        "colab": {
          "base_uri": "https://localhost:8080/"
        },
        "id": "4RlGflrvDR72",
        "outputId": "4251b26e-566d-4590-ed48-4708f1a60d5c"
      },
      "source": [
        "# Copiando a lista de dicionários:\n",
        "pessoas = [\n",
        "          {'nome':'Everton' , 'idade':29 , 'cidade':'São José'},\n",
        "          {'nome':'Thiago' , 'idade':34 , 'cidade':'São Paulo'},\n",
        "          {'nome':'André' , 'idade':22 , 'cidade':'Lorena'}\n",
        "]\n",
        "# Imprimindo cada lista:\n",
        "print(pessoas[0])\n",
        "print()\n",
        "print(pessoas[1])\n",
        "print()\n",
        "print(pessoas[2])\n",
        "print()\n",
        "# Imprimindo o nome da pessoa 1:\n",
        "print(pessoas[0]['nome'])\n",
        "# Imprimindo o idade da pessoa 2:\n",
        "print(pessoas[1]['idade'])\n",
        "# Imprimindo o cidade da pessoa 3:\n",
        "print(pessoas[2]['cidade'])"
      ],
      "execution_count": null,
      "outputs": [
        {
          "output_type": "stream",
          "name": "stdout",
          "text": [
            "{'nome': 'Everton', 'idade': 29, 'cidade': 'São José'}\n",
            "\n",
            "{'nome': 'Thiago', 'idade': 34, 'cidade': 'São Paulo'}\n",
            "\n",
            "{'nome': 'André', 'idade': 22, 'cidade': 'Lorena'}\n",
            "\n",
            "Everton\n",
            "34\n",
            "Lorena\n"
          ]
        }
      ]
    },
    {
      "cell_type": "markdown",
      "metadata": {
        "id": "N-oL9_92OEKo"
      },
      "source": [
        "### For dentro de For\n",
        "\n",
        "Quando temos listas ou dicionários aninhados, é comum precisarmos rodar for dentro de for para pegar os valores que precisamos, sendo que vai ser: 1 for para cada nível de aninhamento"
      ]
    },
    {
      "cell_type": "markdown",
      "metadata": {
        "id": "b-gn1tryOVY_"
      },
      "source": [
        "<h2> Estrutura </h2>\n",
        "\n",
        "```\n",
        "for l in listas:\n",
        "  print(l)\n",
        "  for k, v in l.items(): \n",
        "    print(k, v)\n",
        "```\n",
        "\n",
        "Lê-se: <br>\n",
        "\"*Para cada lista (dentro de listas) imprima lista*\" <br>       \"*Para cada item da lista selecionada imprima chave e valor*\"\n",
        "\n",
        "<h2> Exemplo 13 </h2>\n",
        "\n",
        "Dada a lista: `pessoas` execute a estrutura acima."
      ]
    },
    {
      "cell_type": "code",
      "metadata": {
        "colab": {
          "base_uri": "https://localhost:8080/"
        },
        "id": "zQ9eR-sUPrNh",
        "outputId": "e194b7dd-ff94-4d8d-f97b-e1da98c46731"
      },
      "source": [
        "# montando for:\n",
        "for p in pessoas:\n",
        "  print(f'Dados das pessoas: {p}')\n",
        "  for k, v in p.items():\n",
        "    print(f'A chave: {k} é: {v}')"
      ],
      "execution_count": null,
      "outputs": [
        {
          "output_type": "stream",
          "name": "stdout",
          "text": [
            "Dados das pessoas: {'nome': 'Everton', 'idade': 29, 'cidade': 'São José'}\n",
            "A chave: nome é: Everton\n",
            "A chave: idade é: 29\n",
            "A chave: cidade é: São José\n",
            "Dados das pessoas: {'nome': 'Thiago', 'idade': 34, 'cidade': 'São Paulo'}\n",
            "A chave: nome é: Thiago\n",
            "A chave: idade é: 34\n",
            "A chave: cidade é: São Paulo\n",
            "Dados das pessoas: {'nome': 'André', 'idade': 22, 'cidade': 'Lorena'}\n",
            "A chave: nome é: André\n",
            "A chave: idade é: 22\n",
            "A chave: cidade é: Lorena\n"
          ]
        }
      ]
    },
    {
      "cell_type": "markdown",
      "metadata": {
        "id": "WzBljvCzQvTi"
      },
      "source": [
        "<h2> Exercício 2 </h2>\n",
        "\n",
        "Dada a lista `pessoas`\n",
        "\n",
        "1. Imprima somente os nomes da seguinte forma:\n",
        "\n",
        "O nome da pessoa [1] é : 'valor'\n",
        "\n",
        "2. Imprima as cidades das pessoas que possuem menos de 30 anos:\n",
        "\n",
        "A pessoa [N] tem [idade] anos e o nome dela é [nome] e mora em [cidade]"
      ]
    },
    {
      "cell_type": "code",
      "metadata": {
        "colab": {
          "base_uri": "https://localhost:8080/"
        },
        "id": "r7MS_kOAReSv",
        "outputId": "1a54d8fa-2101-474f-d734-54f9fc3cebdf"
      },
      "source": [
        "# Imprimir somente os nomes:\n",
        "for i, p in enumerate(pessoas):\n",
        "  print(f\"O nome da pessoa{i+1} é {p['nome']}\")\n",
        "print('-'*30)\n",
        "\n",
        "# Imprimir os dados de pessoas com menos de 30 anos:\n",
        "\n",
        "for i, p in enumerate(pessoas):\n",
        "  for k, v in p.items():\n",
        "    if k == 'idade' and v <30:\n",
        "      print(f\"A pessoa {i+1} tem {p['idade']} anod e o nome dela é {p['nome']} e mora em {p['cidade']}\")\n",
        "\n",
        "\n",
        "\n"
      ],
      "execution_count": null,
      "outputs": [
        {
          "output_type": "stream",
          "name": "stdout",
          "text": [
            "O nome da pessoa1 é Everton\n",
            "O nome da pessoa2 é Thiago\n",
            "O nome da pessoa3 é André\n",
            "------------------------------\n",
            "A pessoa 1 tem 29 anod e o nome dela é Everton e mora em São José\n",
            "A pessoa 3 tem 22 anod e o nome dela é André e mora em Lorena\n"
          ]
        }
      ]
    },
    {
      "cell_type": "markdown",
      "metadata": {
        "id": "a7QwRjiwff4Y"
      },
      "source": [
        "#### Copiando dicionários para listas\n",
        "\n",
        "Quando queremos inserir um dicionário dentro de uma lista, não podemos usar o método do fatiamento para fazer a cópia da lista temporária, então faremos:\n",
        "\n",
        "```\n",
        "lista.append(dicionario.copy())\n",
        "```\n",
        "\n",
        "<h2> Estrutura </h2>\n",
        "\n",
        "```\n",
        "dicio = {}\n",
        "lista = []\n",
        "for d in range(ini, fim):\n",
        "  dicio.['Key1'] = input('Valor1 = ')\n",
        "  dicio.['Key2'] = input('Valor2 = ')\n",
        "  lista.append(dicio.copy())\n",
        "```\n",
        "Assim como nas listas, colocamos os valores inputados pelo usuário num dicionário temporário e a seguir o copiamos para lista.\n",
        "\n",
        "* Não podemos usar: `lista.append(dicio)` pois assim iríamos clonar a lista\n",
        "\n",
        "* Não podemos usar: `lista.append(dicio[:])` pois os dicionários não aceitam append.\n",
        "\n",
        "<h2> Exemplo 14 </h2>\n",
        "\n",
        "Faça um sistema que pergunte e salve numas lista de dicionários o nome e idade de pessoas. Pergunte pro usuário quando ele quer parar (s/n)\n"
      ]
    },
    {
      "cell_type": "code",
      "metadata": {
        "colab": {
          "base_uri": "https://localhost:8080/"
        },
        "id": "GDAsxOKMgj33",
        "outputId": "fcc0153a-93fe-4f90-db07-30d84c327af1"
      },
      "source": [
        "# Declarando lista e dicio vazios\n",
        "temp = {}\n",
        "pessoas = []\n",
        "\n",
        "while True:\n",
        "  temp['nome'] = str(input('Fale um nome'))\n",
        "  temp['idade'] = int(input('Fale uma idade'))\n",
        "  controle = str(input('Você quer continuar? (s/n) '))\n",
        "  pessoas.append(temp.copy())\n",
        "  if controle == 'n':\n",
        "   break\n",
        "print(pessoas)\n"
      ],
      "execution_count": null,
      "outputs": [
        {
          "output_type": "stream",
          "name": "stdout",
          "text": [
            "Fale um nomeRodrigo\n",
            "Fale uma idade37\n",
            "Você quer continuar? (s/n) n\n",
            "[{'nome': 'Rodrigo', 'idade': 37}]\n"
          ]
        }
      ]
    },
    {
      "cell_type": "markdown",
      "metadata": {
        "id": "zw88DxguZJRf"
      },
      "source": [
        "# Exercícios"
      ]
    },
    {
      "cell_type": "markdown",
      "metadata": {
        "id": "s7hg_vdWZLu-"
      },
      "source": [
        "<h2> Exercício 1 </h2>\n",
        "\n",
        "1. Crie uma lista de dicionários contendo as notas de todos os alunos de uma sala (5 alunos). No dicionário é para ter os campos:\n",
        "* nome: \n",
        "* nota1:\n",
        "* nota2:\n",
        "* media:\n",
        "* status:\n",
        "\n",
        "2. Peça para o usuário digitar as notas de cada aluno\n",
        "3. Tire a média das notas e adicione no dicionário\n",
        "4. Se média for maior ou igual a 7, coloque \"aprovado\" no status, caso contrário, coloque \"reprovado\"\n",
        "5. Calcule a média das médias e imprima para o professor."
      ]
    },
    {
      "cell_type": "code",
      "metadata": {
        "id": "uZpksmjoiis7",
        "colab": {
          "base_uri": "https://localhost:8080/"
        },
        "outputId": "077ef73d-51a8-49db-bbaf-ab991af809f2"
      },
      "source": [
        "temp = {}\n",
        "pessoas = []\n",
        "soma = 0\n",
        "media = 0\n",
        "while True:\n",
        "  temp['nome'] = str(input('Fale seu nome '))\n",
        "  temp['prova 1'] = int(input('Resultado da prova 1: '))\n",
        "  temp['prova 2'] = int(input('Resultado da prova 2: '))\n",
        "  soma = temp['prova 1'] + temp['prova 2']\n",
        "  temp['media'] = media\n",
        "  pessoas.append(temp.copy())\n",
        "  media = soma/2\n",
        "  \n",
        "  controle = str(input('Você quer continuar? (s/n) '))\n",
        "   \n",
        "  if controle == 'n':\n",
        "   break\n",
        "if media<7:\n",
        "        print('Reprovado')\n",
        "elif media<10:\n",
        "        print('Aprovado')\n",
        "  \n",
        "print(f\"O aluno {temp['nome']} tirou: {temp['prova 1']} na prova 1 e o resultado da prova 2 foi: {temp['prova 2']} com media de:\", media, 'e o aluno esta:', )\n",
        "\n",
        "     \n"
      ],
      "execution_count": null,
      "outputs": [
        {
          "output_type": "stream",
          "name": "stdout",
          "text": [
            "Fale seu nome Adjalma\n",
            "Resultado da prova 1: 7\n",
            "Resultado da prova 2: 8\n",
            "Você quer continuar? (s/n) n\n",
            "Aprovado\n",
            "O aluno Adjalma tirou: 7 na prova 1 e o resultado da prova 2 foi: 8 com media de: 7.5 e o aluno esta: n\n"
          ]
        }
      ]
    },
    {
      "cell_type": "code",
      "source": [
        "\n"
      ],
      "metadata": {
        "colab": {
          "base_uri": "https://localhost:8080/"
        },
        "id": "rE1TYkCoZnSL",
        "outputId": "957a323c-72ce-4539-e8d6-e167d56ed14f"
      },
      "execution_count": null,
      "outputs": [
        {
          "name": "stdout",
          "output_type": "stream",
          "text": [
            "Dogite o nome do aluno A\n",
            "Resultado da nota 1: 8\n",
            "Resultado da nota 2: 8\n",
            "Dogite o nome do aluno B\n",
            "Resultado da nota 1: 8\n",
            "Resultado da nota 2: 8\n"
          ]
        }
      ]
    },
    {
      "cell_type": "code",
      "source": [
        "N = int(input('Quantos alunos? '))\n",
        "\n",
        "students = {}\n",
        "\n",
        "for i in range(1, N+1):\n",
        "  name = input(f'Nome do aluno {i}: ')\n",
        "  grades = []\n",
        "\n",
        "  for j in range(1, 3):\n",
        "    grade = float(input(f'Nota {j} do aluno {i}: '))\n",
        "    grades.append(grade)\n",
        "\n",
        "  students[name] = grades\n",
        "\n",
        "for name, grades in students.items():\n",
        "  average = sum(grades) / len(grades)\n",
        "  result = 'aprovado' if average >= 7.0 else 'reprovado'\n",
        "  print(f'O aluno {name} foi {result} com média {average:.1f}')\n",
        "print(students)"
      ],
      "metadata": {
        "colab": {
          "base_uri": "https://localhost:8080/"
        },
        "id": "RDEfNcUI7hOV",
        "outputId": "c80538a4-406f-43be-8bdd-40d0f852718d"
      },
      "execution_count": null,
      "outputs": [
        {
          "output_type": "stream",
          "name": "stdout",
          "text": [
            "Quantos alunos? 5\n",
            "Nome do aluno 1: Adjalma\n",
            "Nota 1 do aluno 1: 7\n",
            "Nota 2 do aluno 1: 8\n",
            "Nome do aluno 2: Rogério\n",
            "Nota 1 do aluno 2: 7\n",
            "Nota 2 do aluno 2: 8\n",
            "Nome do aluno 3: Roberto\n",
            "Nota 1 do aluno 3: 9\n",
            "Nota 2 do aluno 3: 9\n",
            "Nome do aluno 4: Adriano\n",
            "Nota 1 do aluno 4: 6\n",
            "Nota 2 do aluno 4: 9\n",
            "Nome do aluno 5: Carlos\n",
            "Nota 1 do aluno 5: 8\n",
            "Nota 2 do aluno 5: 8\n",
            "O aluno Adjalma foi aprovado com média 7.5\n",
            "O aluno Rogério foi aprovado com média 7.5\n",
            "O aluno Roberto foi aprovado com média 9.0\n",
            "O aluno Adriano foi aprovado com média 7.5\n",
            "O aluno Carlos foi aprovado com média 8.0\n",
            "{'Adjalma': [7.0, 8.0], 'Rogério': [7.0, 8.0], 'Roberto': [9.0, 9.0], 'Adriano': [6.0, 9.0], 'Carlos': [8.0, 8.0]}\n"
          ]
        }
      ]
    },
    {
      "cell_type": "markdown",
      "metadata": {
        "id": "a_px7HWnijLf"
      },
      "source": [
        "<h2> Exercício 2 </h2>\n",
        "\n",
        "1. Adapte o sistema anterior para que as notas 1 e 2 estejam dentro de uma lista. Então o dicionário irá conter:\n",
        "* nome: \n",
        "* nota: [nota1 nota2]\n",
        "* media:\n",
        "* status:\n",
        "2. ao 5. faça o mesmo do anterior."
      ]
    },
    {
      "cell_type": "code",
      "metadata": {
        "id": "FB4yuHQvjAZw",
        "colab": {
          "base_uri": "https://localhost:8080/"
        },
        "outputId": "8d6963fb-6904-4d2d-91d6-51baee86aea4"
      },
      "source": [
        "N = int(input('Quantos alunos? '))\n",
        "\n",
        "students = {}\n",
        "\n",
        "for i in range(1, N+1):\n",
        "  name = input(f'Nome do aluno {i}: ')\n",
        "  grades = []\n",
        "\n",
        "  for j in range(1, 3):\n",
        "    grade = float(input(f'Nota {j} do aluno {i}: '))\n",
        "    grades.append(grade)\n",
        "\n",
        "  students[name] = grades\n",
        "\n",
        "for name, grades in students.items():\n",
        "  average = sum(grades) / len(grades)\n",
        "  result = 'aprovado' if average >= 7.0 else 'reprovado'\n",
        "  print(f'O aluno {students} foi {result} com média {average:.1f}')\n"
      ],
      "execution_count": null,
      "outputs": [
        {
          "output_type": "stream",
          "name": "stdout",
          "text": [
            "Quantos alunos? 1\n",
            "Nome do aluno 1: A\n",
            "Nota 1 do aluno 1: 6\n",
            "Nota 2 do aluno 1: 6\n",
            "O aluno {'A': [6.0, 6.0]} foi reprovado com média 6.0\n"
          ]
        }
      ]
    },
    {
      "cell_type": "markdown",
      "metadata": {
        "id": "hgElesKdjFJg"
      },
      "source": [
        "<h2> Exercício 3 </h2>\n",
        "\n",
        "Dada os dois dicionários abaixo, calcule a média de preços:\n",
        "\n",
        "```\n",
        "produtos = [ {\n",
        "          'produto': 'maça',\n",
        "          'preco': 2.2\n",
        "          },\n",
        "         {\n",
        "          'produto': 'banana',\n",
        "          'preco': 1.2\n",
        "          } ]\n",
        "everton = {\n",
        "        'cliente': 'Everton'\n",
        "        'compra': [ {\n",
        "                      'produto': 'maça',\n",
        "                      'qtd' = 3\n",
        "                     },\n",
        "                    {\n",
        "                      'produto': 'banana',\n",
        "                      'qtd' = 10\n",
        "                     } ]\n",
        "}\n",
        "```\n",
        "1. Calcule o valor total da compra do Everton\n",
        "2. Imprima a qtd que ele comprou e o que ele comprou\n",
        "3. Imprima o valor total das compras"
      ]
    },
    {
      "cell_type": "code",
      "source": [
        "produtos = [ {\n",
        "          'produto': 'maça',\n",
        "          'preco': 2.2\n",
        "          },\n",
        "         {\n",
        "          'produto': 'banana',\n",
        "          'preco': 1.2\n",
        "          } ]\n",
        "everton = {\n",
        "        'cliente': 'Everton'\n",
        "        'compra': [ {\n",
        "                      'produto': 'maça',\n",
        "                      'qtd' = 3\n",
        "                     },\n",
        "                    {\n",
        "                      'produto': 'banana',\n",
        "                      'qtd' = 10\n",
        "                     } ]\n",
        "}\n",
        "\n",
        "print(everton)"
      ],
      "metadata": {
        "colab": {
          "base_uri": "https://localhost:8080/",
          "height": 130
        },
        "id": "1KMQX1MrC8KP",
        "outputId": "6968229c-ab4c-4cd8-9487-757c2010e341"
      },
      "execution_count": null,
      "outputs": [
        {
          "output_type": "error",
          "ename": "SyntaxError",
          "evalue": "ignored",
          "traceback": [
            "\u001b[0;36m  File \u001b[0;32m\"<ipython-input-8-50f3e0ad2eae>\"\u001b[0;36m, line \u001b[0;32m11\u001b[0m\n\u001b[0;31m    'compra': [ {\u001b[0m\n\u001b[0m            ^\u001b[0m\n\u001b[0;31mSyntaxError\u001b[0m\u001b[0;31m:\u001b[0m invalid syntax\n"
          ]
        }
      ]
    }
  ]
}