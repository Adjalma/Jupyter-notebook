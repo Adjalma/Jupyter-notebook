{
  "nbformat": 4,
  "nbformat_minor": 0,
  "metadata": {
    "colab": {
      "provenance": [],
      "include_colab_link": true
    },
    "kernelspec": {
      "name": "python3",
      "display_name": "Python 3"
    },
    "language_info": {
      "name": "python"
    }
  },
  "cells": [
    {
      "cell_type": "markdown",
      "metadata": {
        "id": "view-in-github",
        "colab_type": "text"
      },
      "source": [
        "<a href=\"https://colab.research.google.com/github/Adjalma/Jupyter-notebook/blob/master/C%C3%B3pia_de_Aula2_Numpy.ipynb\" target=\"_parent\"><img src=\"https://colab.research.google.com/assets/colab-badge.svg\" alt=\"Open In Colab\"/></a>"
      ]
    },
    {
      "cell_type": "markdown",
      "source": [
        "## **AULA 2 - Manipulação com *arrays* Numpy**\n",
        "\n",
        "---\n",
        "\n",
        "> Alterando o formato de uma matriz...\n",
        "\n",
        "\n",
        "\n",
        "```\n",
        "np.reshape()\n",
        "\n",
        "np.newaxis()\n",
        "\n",
        "```\n",
        "\n"
      ],
      "metadata": {
        "id": "Y3Uos8qd-7k8"
      }
    },
    {
      "cell_type": "code",
      "execution_count": null,
      "metadata": {
        "id": "imDold1S-yjp"
      },
      "outputs": [],
      "source": [
        "# Importando a biblioteca\n",
        "\n",
        "import numpy as np"
      ]
    },
    {
      "cell_type": "code",
      "source": [
        "# Criando uma nova array\n",
        "\n",
        "a = np.arange(0,100)\n",
        "print(a)"
      ],
      "metadata": {
        "colab": {
          "base_uri": "https://localhost:8080/"
        },
        "id": "_TXDYtKO_2sI",
        "outputId": "b5927ab6-5a72-4469-c344-11c6ab20ece3"
      },
      "execution_count": null,
      "outputs": [
        {
          "output_type": "stream",
          "name": "stdout",
          "text": [
            "[ 0  1  2  3  4  5  6  7  8  9 10 11 12 13 14 15 16 17 18 19 20 21 22 23\n",
            " 24 25 26 27 28 29 30 31 32 33 34 35 36 37 38 39 40 41 42 43 44 45 46 47\n",
            " 48 49 50 51 52 53 54 55 56 57 58 59 60 61 62 63 64 65 66 67 68 69 70 71\n",
            " 72 73 74 75 76 77 78 79 80 81 82 83 84 85 86 87 88 89 90 91 92 93 94 95\n",
            " 96 97 98 99]\n"
          ]
        }
      ]
    },
    {
      "cell_type": "code",
      "source": [
        "# Consultando as dimensões\n",
        "\n",
        "a.shape\n",
        "a.ndim\n",
        "a.size"
      ],
      "metadata": {
        "colab": {
          "base_uri": "https://localhost:8080/"
        },
        "id": "0r9hKndRAnkI",
        "outputId": "ca589297-71b8-4b46-e431-24acc2f45e79"
      },
      "execution_count": null,
      "outputs": [
        {
          "output_type": "execute_result",
          "data": {
            "text/plain": [
              "100"
            ]
          },
          "metadata": {},
          "execution_count": 3
        }
      ]
    },
    {
      "cell_type": "code",
      "source": [
        "# Alterando o formato de uma matriz\n",
        "\n",
        "b = a.reshape(10,10)\n",
        "print(b)"
      ],
      "metadata": {
        "colab": {
          "base_uri": "https://localhost:8080/"
        },
        "id": "3uVe2dqUAVGM",
        "outputId": "1b2923bb-ae05-4e2b-85ac-441063eb59ec"
      },
      "execution_count": null,
      "outputs": [
        {
          "output_type": "stream",
          "name": "stdout",
          "text": [
            "[[ 0  1  2  3  4  5  6  7  8  9]\n",
            " [10 11 12 13 14 15 16 17 18 19]\n",
            " [20 21 22 23 24 25 26 27 28 29]\n",
            " [30 31 32 33 34 35 36 37 38 39]\n",
            " [40 41 42 43 44 45 46 47 48 49]\n",
            " [50 51 52 53 54 55 56 57 58 59]\n",
            " [60 61 62 63 64 65 66 67 68 69]\n",
            " [70 71 72 73 74 75 76 77 78 79]\n",
            " [80 81 82 83 84 85 86 87 88 89]\n",
            " [90 91 92 93 94 95 96 97 98 99]]\n"
          ]
        }
      ]
    },
    {
      "cell_type": "code",
      "source": [
        "# Consultando as dimensões\n",
        "\n",
        "b.shape\n",
        "#b.ndim\n",
        "#b.size"
      ],
      "metadata": {
        "colab": {
          "base_uri": "https://localhost:8080/"
        },
        "id": "yaAt5tO9AuPH",
        "outputId": "84ec4706-eb7c-4dbe-f39c-02ab341041f8"
      },
      "execution_count": null,
      "outputs": [
        {
          "output_type": "execute_result",
          "data": {
            "text/plain": [
              "(10, 10)"
            ]
          },
          "metadata": {},
          "execution_count": 5
        }
      ]
    },
    {
      "cell_type": "code",
      "source": [
        "# Convertendo 1D array em 2D array\n",
        "\n",
        "c = a[np.newaxis, :]\n",
        "print(c)\n",
        "c.shape"
      ],
      "metadata": {
        "id": "PWadY98ZA_ia",
        "colab": {
          "base_uri": "https://localhost:8080/"
        },
        "outputId": "ee96c055-6d0a-477d-fc0d-34851ef5bc39"
      },
      "execution_count": null,
      "outputs": [
        {
          "output_type": "stream",
          "name": "stdout",
          "text": [
            "[[ 0  1  2  3  4  5  6  7  8  9 10 11 12 13 14 15 16 17 18 19 20 21 22 23\n",
            "  24 25 26 27 28 29 30 31 32 33 34 35 36 37 38 39 40 41 42 43 44 45 46 47\n",
            "  48 49 50 51 52 53 54 55 56 57 58 59 60 61 62 63 64 65 66 67 68 69 70 71\n",
            "  72 73 74 75 76 77 78 79 80 81 82 83 84 85 86 87 88 89 90 91 92 93 94 95\n",
            "  96 97 98 99]]\n"
          ]
        },
        {
          "output_type": "execute_result",
          "data": {
            "text/plain": [
              "(1, 100)"
            ]
          },
          "metadata": {},
          "execution_count": 24
        }
      ]
    },
    {
      "cell_type": "code",
      "source": [
        "# Consultando as dimensões\n",
        "\n",
        "c.shape \n",
        "c.ndim\n",
        "c.size"
      ],
      "metadata": {
        "colab": {
          "base_uri": "https://localhost:8080/"
        },
        "id": "y8QQjcWZEcTT",
        "outputId": "831c5176-f954-4474-cf99-ef48a2afa35e"
      },
      "execution_count": null,
      "outputs": [
        {
          "output_type": "execute_result",
          "data": {
            "text/plain": [
              "100"
            ]
          },
          "metadata": {},
          "execution_count": 7
        }
      ]
    },
    {
      "cell_type": "markdown",
      "source": [
        "Para saber mais sobre manipulação de forma de arrays acesse: https://numpy.org/doc/stable/user/quickstart.html#quickstart-shape-manipulation"
      ],
      "metadata": {
        "id": "dGH6g5ae5Lso"
      }
    },
    {
      "cell_type": "markdown",
      "source": [
        "> Ordenando, juntando e dividindo matrizes...\n",
        "\n",
        "```\n",
        "np.flat  # Iterando os elementos da array\n",
        "\n",
        "np.sort()  # Ordenando os elementos da array\n",
        "\n",
        "np.concatenate()  # Juntando arrays\n",
        "\n",
        "np.hstack()  # Juntando horizontalmente\n",
        "\n",
        "np.vstack()  # Juntando verticalmente\n",
        "\n",
        "np.hsplit()  # Dividindo arrays\n",
        "\n",
        "```"
      ],
      "metadata": {
        "id": "nkzBPbehBPmu"
      }
    },
    {
      "cell_type": "code",
      "source": [
        "# Criando uma nova array\n",
        "\n",
        "d = np.array([5,7,8,6,1,10,16,18,50,24,25,89,100,63,41,22,28,33,35,0])\n",
        "print(d)"
      ],
      "metadata": {
        "id": "oSj-2zWDD3bS",
        "colab": {
          "base_uri": "https://localhost:8080/"
        },
        "outputId": "d7df5ffc-8ce1-4b75-89df-3185e3bbc79e"
      },
      "execution_count": null,
      "outputs": [
        {
          "output_type": "stream",
          "name": "stdout",
          "text": [
            "[  5   7   8   6   1  10  16  18  50  24  25  89 100  63  41  22  28  33\n",
            "  35   0]\n"
          ]
        }
      ]
    },
    {
      "cell_type": "code",
      "source": [
        "# Iterando os elementos da array\n",
        "\n",
        "for element in d.flat:\n",
        "  print(element)"
      ],
      "metadata": {
        "colab": {
          "base_uri": "https://localhost:8080/"
        },
        "id": "GchcYTpXtVfO",
        "outputId": "341cfcfd-5d84-44db-915b-5985616ea6f7"
      },
      "execution_count": null,
      "outputs": [
        {
          "output_type": "stream",
          "name": "stdout",
          "text": [
            "5\n",
            "7\n",
            "8\n",
            "6\n",
            "1\n",
            "10\n",
            "16\n",
            "18\n",
            "50\n",
            "24\n",
            "25\n",
            "89\n",
            "100\n",
            "63\n",
            "41\n",
            "22\n",
            "28\n",
            "33\n",
            "35\n",
            "0\n"
          ]
        }
      ]
    },
    {
      "cell_type": "code",
      "source": [
        "# Ordenando os elementos da array\n",
        "\n",
        "d2 = np.sort(d)\n",
        "print(d2)"
      ],
      "metadata": {
        "colab": {
          "base_uri": "https://localhost:8080/"
        },
        "id": "fZl8o3ZJn0p7",
        "outputId": "e450e0c2-ae7c-45fe-ae42-8882ed001af6"
      },
      "execution_count": null,
      "outputs": [
        {
          "output_type": "stream",
          "name": "stdout",
          "text": [
            "[  0   1   5   6   7   8  10  16  18  22  24  25  28  33  35  41  50  63\n",
            "  89 100]\n"
          ]
        }
      ]
    },
    {
      "cell_type": "code",
      "source": [
        "# Iterando os elementos da array\n",
        "\n",
        "for element in d2.flat:\n",
        "  print(element)"
      ],
      "metadata": {
        "colab": {
          "base_uri": "https://localhost:8080/"
        },
        "id": "5KM5Z9LcvA9_",
        "outputId": "5d158203-d996-48cc-d6be-63eae067f1f5"
      },
      "execution_count": null,
      "outputs": [
        {
          "output_type": "stream",
          "name": "stdout",
          "text": [
            "0\n",
            "1\n",
            "5\n",
            "6\n",
            "7\n",
            "8\n",
            "10\n",
            "16\n",
            "18\n",
            "22\n",
            "24\n",
            "25\n",
            "28\n",
            "33\n",
            "35\n",
            "41\n",
            "50\n",
            "63\n",
            "89\n",
            "100\n"
          ]
        }
      ]
    },
    {
      "cell_type": "markdown",
      "source": [
        "Para saber mais ordenação de arrays acesse: https://numpy.org/doc/stable/reference/generated/numpy.sort.html#numpy.sort"
      ],
      "metadata": {
        "id": "t5Cnh9F84Pqd"
      }
    },
    {
      "cell_type": "code",
      "source": [
        "# Juntando arrays\n",
        "\n",
        "e = np.array([2,3,4,5,6])\n",
        "f = np.array([7,8,9,10,11])\n",
        "\n",
        "ef = np.concatenate([e,f])\n",
        "\n",
        "print(ef)\n",
        "ef.shape # Consultando as dimensões"
      ],
      "metadata": {
        "colab": {
          "base_uri": "https://localhost:8080/"
        },
        "id": "JSMbost3oO1R",
        "outputId": "347cf179-dc53-497d-c1d9-a75c3633235c"
      },
      "execution_count": null,
      "outputs": [
        {
          "output_type": "stream",
          "name": "stdout",
          "text": [
            "[ 2  3  4  5  6  7  8  9 10 11]\n"
          ]
        },
        {
          "output_type": "execute_result",
          "data": {
            "text/plain": [
              "(10,)"
            ]
          },
          "metadata": {},
          "execution_count": 12
        }
      ]
    },
    {
      "cell_type": "code",
      "source": [
        "# Juntando arrays horizontalmente\n",
        "\n",
        "ef2 = np.hstack((e,f))\n",
        "print(ef2)\n",
        "ef2.shape # Consultando as dimensões"
      ],
      "metadata": {
        "colab": {
          "base_uri": "https://localhost:8080/"
        },
        "id": "Ehq2osT-sAkq",
        "outputId": "7ec8814d-fd61-4f05-d3f3-46a568a5e189"
      },
      "execution_count": null,
      "outputs": [
        {
          "output_type": "stream",
          "name": "stdout",
          "text": [
            "[ 2  3  4  5  6  7  8  9 10 11]\n"
          ]
        },
        {
          "output_type": "execute_result",
          "data": {
            "text/plain": [
              "(10,)"
            ]
          },
          "metadata": {},
          "execution_count": 13
        }
      ]
    },
    {
      "cell_type": "code",
      "source": [
        "# Juntando arrays verticalmente\n",
        "\n",
        "ef3 = np.vstack((e,f))\n",
        "print(ef3)\n",
        "ef3.shape # Consultando as dimensões"
      ],
      "metadata": {
        "colab": {
          "base_uri": "https://localhost:8080/"
        },
        "id": "JEbjZCx1rmny",
        "outputId": "d6fdc08b-f091-49aa-bdcc-8236a9477724"
      },
      "execution_count": null,
      "outputs": [
        {
          "output_type": "stream",
          "name": "stdout",
          "text": [
            "[[ 2  3  4  5  6]\n",
            " [ 7  8  9 10 11]]\n"
          ]
        },
        {
          "output_type": "execute_result",
          "data": {
            "text/plain": [
              "(2, 5)"
            ]
          },
          "metadata": {},
          "execution_count": 14
        }
      ]
    },
    {
      "cell_type": "markdown",
      "source": [
        "Para saber mais sobre a função `concatenate` acesse: https://numpy.org/doc/stable/reference/generated/numpy.concatenate.html#numpy.concatenate"
      ],
      "metadata": {
        "id": "Y-LPMPOcOORq"
      }
    },
    {
      "cell_type": "code",
      "source": [
        "# Dividindo arrays\n",
        "\n",
        "ef4 = np.hsplit(ef, 5)\n",
        "print(ef4)"
      ],
      "metadata": {
        "colab": {
          "base_uri": "https://localhost:8080/"
        },
        "id": "dJpFswfhsaLu",
        "outputId": "36913a01-9a3e-4067-e5e0-77470b7b221d"
      },
      "execution_count": null,
      "outputs": [
        {
          "output_type": "stream",
          "name": "stdout",
          "text": [
            "[array([2, 3]), array([4, 5]), array([6, 7]), array([8, 9]), array([10, 11])]\n"
          ]
        }
      ]
    },
    {
      "cell_type": "code",
      "source": [
        "type(ef3)"
      ],
      "metadata": {
        "colab": {
          "base_uri": "https://localhost:8080/"
        },
        "id": "_nJr_TKIzDqP",
        "outputId": "af8af265-542f-44ed-94c1-5b7ef113e710"
      },
      "execution_count": null,
      "outputs": [
        {
          "output_type": "execute_result",
          "data": {
            "text/plain": [
              "numpy.ndarray"
            ]
          },
          "metadata": {},
          "execution_count": 16
        }
      ]
    },
    {
      "cell_type": "code",
      "source": [
        "type(ef4) # É uma lista de arrays"
      ],
      "metadata": {
        "colab": {
          "base_uri": "https://localhost:8080/"
        },
        "id": "Fqgsn_jXspn7",
        "outputId": "8f06d8cf-d678-46bd-9b94-04cf356500b0"
      },
      "execution_count": null,
      "outputs": [
        {
          "output_type": "execute_result",
          "data": {
            "text/plain": [
              "list"
            ]
          },
          "metadata": {},
          "execution_count": 17
        }
      ]
    },
    {
      "cell_type": "markdown",
      "source": [
        "Para saber mais sobre junção e divisão de arrays acesse: https://numpy.org/doc/stable/user/quickstart.html#quickstart-stacking-arrays"
      ],
      "metadata": {
        "id": "u7kKwimG509E"
      }
    }
  ]
}