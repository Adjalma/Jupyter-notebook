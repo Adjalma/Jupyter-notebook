{
  "nbformat": 4,
  "nbformat_minor": 0,
  "metadata": {
    "colab": {
      "provenance": [],
      "include_colab_link": true
    },
    "kernelspec": {
      "name": "python3",
      "display_name": "Python 3"
    },
    "language_info": {
      "name": "python"
    }
  },
  "cells": [
    {
      "cell_type": "markdown",
      "metadata": {
        "id": "view-in-github",
        "colab_type": "text"
      },
      "source": [
        "<a href=\"https://colab.research.google.com/github/Adjalma/Jupyter-notebook/blob/main/C%C3%B3pia_de_DS_PY0_Item_11_Aula_9_Operadores_Aritm%C3%A9ticos_%5Bpr%C3%A1tica%5D.ipynb\" target=\"_parent\"><img src=\"https://colab.research.google.com/assets/colab-badge.svg\" alt=\"Open In Colab\"/></a>"
      ]
    },
    {
      "cell_type": "markdown",
      "metadata": {
        "id": "bBmSVAcGi1pB"
      },
      "source": [
        "![dnc.png](data:image/png;base64,iVBORw0KGgoAAAANSUhEUgAAAfcAAABkCAMAAACsLolMAAAArlBMVEX///8iQJrkUob/u1lr+87iQHz88PT/tkny//pe+8v/+PEaO5gePZkNNZYTOZnS1+jz9fpWaq+rtNVPY6rp7PUALpTk5/Gapc0AJ5IAK5M8VKNbba8AMZX4+fyBj8F1hb2SnsnK0OXBx9765Orc4O6Z/NvtlbG1vdn/zo9HXactSqDm6vRufrh8ir6MmcZjdbM0T6KirNA/V6UAIJCxutkAIpAAGY/hLXP/sTP/zpAYTYZvAAARSklEQVR4nO2dCZfiOnbHcTKTmUSLDdhQFDbYxBmCiz28SfL9v1i0WbuNuxumoKP/Oe+camNL1/pJV9uV32gUFBQUFBQUFBQUFBQUFBQUFBQUFBQUFPTSKrZCt1heKj8XH80x/U6zfkDJ8fzxcS6T77bjvVRliCubiiuzTwSjCKKo+lbDhipuuLnn+P69QVIViLjAmF8olphfgPAdmlCyEy8APovvtuWdVGGL+yYTF6J8/r2mDdIkb81Ft++25Z3kcD+0FyJweoMWtATS3P132/JOcrifZEHC3Rtwv0LJfXr/7qBWDve9akDjN+A+VuaevtuWd5LD/SI7TLz6XtMG6Yhk//4Ow5GXkcM9bVrP+V/195o2SDUU5sJ89t22vJMc7mRAz1wnzN6j/Uy4uSCffLclbyWX+6ia4ixHu3eZFm12KM/RdPPddryXPNxHRb3Zxu+waMOVxNt3Mvc15OMe9PsrcP9/ouSrruuZdIs/yb1Ihsztk5TkVX8NXwZIZuT+h24EstetZ31pFunMKJLfT0Vc7qdnArnZ7eczhsPlfjmshMSFWlw4bEUqVblfjsfLddnXqxazy378GUEQnceHLb8xaSVqQlK2WdEpY7FdTxsyLftcHmszpe38uDrOb7Uvu3mbRNn1usSEZnc6xt7ql25Xy2sTYVokl9Rr5bsrKT8zhCGd8EIAUL6kQ2CHe7JDmOvvopgnC/7v7MBTOS8QACQFgLLPzm3vyThDgOVFMsNZcyGFWDf0ChESc65ZLvJakCp1O2dY3I/ytWygaXld5AhhhPJFs9/a+XydRRIIW5jS8qyZANDienFAVnucY9DekuM1XQMYY24l3v8O4JPjAsm1bE56ca083KftXR8td9QuhJJyKHM9FYjyiy+zG8hBpAvmzWYUR9BcWpu1N6FLcVro1iHM52XFKtPygyCLLPLpp/zZoJQeMut1iQ2ROTetpgvTygh/lKNRmyJY/gbcq08UOQLg4uy/d3OHu6Ke5nYaaOk0+dnSLnKaPr7EErPNHazH2LwdQgp+trOthuhk5NfB/RZZ6YmH9+rh4oiBe0t+KprfiPvW946sFCWX+9zPt7MnFXy1wMeNr8wj4jfbPx3uUeRUFNh8jWZXT0pop+fn5V6UuVvx+MPjdjU32TtVmL/OvhF//Qbct13lEGm7b/zWbu6kTLyp4KlRPnXkrWJ6Xh7unmTXyc5bgZDOw8t9lfme4w9f+cihOPmx6yXy9twrPzDzdQdw71B+0PL6avpgisIfwj3CSy/2KMqOKjsf92MXUmqrGFKe7r3UEO7pZju5bXsC++LbxPw5rba3yW3z07GARXUnR13J530Uv8I9QtriuA0LeqrcMO6u75fX1Yt7uG96sGcC+8W+x2PmHe7FdhphRKYa4FwSH5KCpol4A0h3TdOciOdb4jxHoCm/hK0T+gRi1w46u2JMHojMjaWKpNdgjoT+TKNK0iPNkT6+GrJXejTAkVkSxrkz8hrOnSZA8tavqFAX82YyrCcvhOzMOrhDMl1zDeNUDC5YhVS53JNGvxWSFJW1bchgajhAki8tY2sKcod7PJb3Q3TejNKMzE/XwiYyzR2P6jNvAvCDz3kunyoHiOD+S3GfkrmktaFYLcg7fwgkJL0ryfLadtcQReXdTijRezuMp/OqqjbHT2ukN5Q7wNMJSWByAlrDVg1eb6QYnLZxXddVeTZp+rmj66WKq5U7KiQ5Xa+Rbi9Q03uH+1xryhA16y2x9jLGNNW87SBW2isBtJtXxMp4MjWLpJf7Der3wuyW5HRIwm26QvLw6CrugBEdSybmRJXc3MhCK2iZ29wptYVEAnfmwAmiu9FQc/WS8OMgHURlzskGcs+WrYP62qv6JGOcJnpeK1Wjb0AvJh93uZhT2APtxZ5F8ldjlTaSZeRwT7XmjtWEfbbKoBwXfOlVdqfOCZA2rJdID/dbxnMBGAP2V14Cgztc0voHyc884DMV82gon4hg3lrHuKM73Au+vCQfR9N+8IUqGT4plir1ljWMuz6kGh3V8wthw1R5MmDklU71svbN41Txr3W7INq611UsncNdBVZH+mydQI2k7VpLyPUXshxBN/eaY0doeVjtufum/2ncI9K/wfx6OCzxH6QgiqsIZmlO5Ikdd/iyiIZwv9K3B2hKHj9zd48Ooz7Fmpu3ghMuWgEP4o7NWOW9fD7jKc8Wipe1sDZTka8+7khb95NnIViWqjiUaRForzncVWA1Nld4RqnEqIIxkR1DqNW5bu4FywTCFdvjSDZLUUI6d7oCcUvo7sK6aOsTvt6YEUm9Z40WRNzCAX6eJYhPNXv89smsxL2xJqpyo9L+7aCQDuEOz2ZJ1rI3F0lrpxjMdtS+SBd3aCz+aG3WiJLdyusfbQdvc5+d23/DqGvvoJZdgXvIRqtz3dy3GcMuPVQhZo4md6Q8WM3aA1ori7as6EQpDWjvLHnZNhLmV/u3UGVgNDw775GqYfIQ7k4Mm2wd4tCCPHQBG7fQVYS2y90Mhk3V6DDT5zuq787aqm5zr1TN6wy40+5x9nk40zvcWXPPdctEe9a56zV/xUaVhm+p2BM5q7/DuC+03YWCVU/cc4QxGcs26QmULCXTAdzh+ct6XDZAyAYZhXSybnNv39TPfWEsRRTy8AY0FmXVdTkksrlfpLFRZ5FIDwgbT3nJ/qiTO9tnQOaG1Nju3yMtvjeh9RjszFQmmSyJQX7e7JKYq8U9PbwqmMyzzKOq/gDu7smEr7Y/5z1AKsss89VEScjD3bxz1foN683kdVnqNnfbA/kkvZLg1JF3J3dab6C1K8H2NXXuep1iZw5zuzemzoufRRvU3nMzQ/oSPXV7NJO+8cP3sxyIDeDuHqQoZHtnfv2rsZ81JIdTLndg3indkDUkkStQ0nfZ3JeOR3Cl7nHdvDa46ORO38MuC4ZO567XO2q2y4i6Ju5Ch3C3htTi9+44orotlgj7fv6RfRm3oyjUFJHePJN55b68ZDtzuNuFUnZk6V63uUvr8+6+T9U/3z1y/NnJndZux6FRN6Fz1/uBE/D5lpiZySKNBvh5ZLkL1nc4PkSpVuPbrnd4HHc1VfPl5bTWJ3BvF8ki3L15sWsf8Y6L6nvcWe3G9umciblepyNhRer6luLcXh4yf2+sFfmC1l7kjXrhr9HfBn9kXDegvcsxpC+v1T+gvUum3rbM9YvtnQ7rYGN7WPqY0d4Vd/5vNy/pFoZw/7R7zjXoPRM46+1zkx/p3+9y1/p3X5EtO/v3x3GXTHtcYH//frvXv9MhHPy0uccWd82XsDUF4HJntOmLDFuft0RbkW/aJJTKFuAric2PjOfvcr8znlfe4Hnc5SIB7i4SNZ73nfiVeXRx33i506WZLu60OUC332GeuhwNau/2LFAMKHqOLMs5L/DMWrQl7wdw1+bvpZtX3D1/fxx3NTc/d5bIpW/+Xsh20tveHT//E+191+fnN7/Y3vUT4s5mff1D67R3uWvrdU53pHXvz+SuHFj3Ypa2Xue6QG1Fo6t/pzk647pt3snd7u9bUdPZdNPLPTe5OyvK+/7+XftQkfPBGrX+9SDu2pKuM9LU6tgTudfOBMVV3z2F9sGcDu5sFdlZBKOmdXBPPFhHYtWZdYicu1liE4t7Y62V8jFBz6HlBKh1Mqs70LZlHsNd7cfpsVD8VlWgz+Su7QQ7B/ilu+u5R9ui7Zy/n6GnLPagkzvrat31QxbCjuT83eLOXlWbv9vjg4R6T+8wqpX6QlWU61uT6VLD/hjuahoVQWgtuWuZPZO7Bs4IFhgV+4+NnYwDXg/WMbgnsToURgdF0PqKEhu7dXFnXa0ztS3Zeh0dJ/C5uGkJ2+PW120sB8q2RrxLsK1itSke4eYiOqZ6bga+Pob7RZUoxBdVyWJ9S/2p3GdaJB6eysJPtlcMoXCLMy3uAO9VT/21MlqC4p6u6cG9tbiTdb1mWAm3rIt7RQk439cDsN3yYL7Q3IpI2X6y3t6tMSjzIf1nWTUPSyPOTquyPCwb+9TUQ7gneqhMvitrer4w3e6NMKuncjdDZvDyuKln8W21Y18zxWLCrkf04OawSamZ8epsRhJK7u2nWz95T8G27MBV7wX4EbAu7gmFaAcvMMckWjHtJMyRG29Axr6MUW/oZPLepxprIxgVAowQBib1R3E3Y3cBWkTX3RnZkapP5Z6aYYMoXyyyXERMwoyDrzUXSGpDhj93V7iwThko7vs2nkY495JmgbVRsoj26OIuHL1xznKj7b/z3zNtFUlEtOjcYaRNx2aNd9HQ0qX7/Ih6y8dwT64mYysC2kzoKdzd2HhdIoDecOjcTLdEWu4qrCgXDZ5hRtc2PG4iakwn9/SDGT1WY/I5c7ft/JutEcJGjogq4YyNuAvYyCRr5j/z0uZh63gf/IO4k9mtW4K2nstdNs+evAv/ESyzRFrusROfs2H+AuLrcbu5HZrWUXRyF6NNAMuahdxt+HlP2LQx/6xegKikAXtptafY6XcKrPg6sKaPkw6JZQh27hqJzefQ0QYUo0dxV+vb3Zk9mXvSdwgK8flU3XmGyJ2/q8hAGZcl/AXpRfIcw/bdxNDMw12cy4Io2i2XUxEQq0Xo8QhVMviaLpfsZANa0T7fbO/0gCJ5fAd5Wn1RVlIr/zkUtG3jEB/GnfhZb4uHqIyshJ7EnYDvrHv5oW3EZ3+LR0fn/Hsss1AxdVYO+WGvgjF83JM2+h8CIDyiHGXSkhDVDdKfqRXLxOIOLuwH8Tv5YzHsQ3ObxsWBolid8n8Y99Em8rQ3gCq5Jfxs7qRjs79oIIzIVGGlU0/9hIujXIOQ3It2kw9oc6lyoUVcfxz5tijvrn3cR8X6w8gO5o2+wLHBxkxomrCJmj5/r2L9OA8Cvr1En4p5k+ujeIjZ10TatSvFvU19EHeRIATGofRDbo2NYTau1Zaw5N7eBaGZ7k9wh+b3LuJT7kxZcH4yVtUv9lyWONCtmvaq8XzMD0UBY2+lpt9IwYB9MaYylstT4qmBG++z2clSgSBvrANu9WnRtmTE/MYJAfCHQMLX9+upPKWjfQjmvpLb6UyncFQInfesvp1y/n2YXARNEockvm/TnoG5LdoLzpp7EbVfl7GC1eO9VskgRrsJHbC036LJREJfUKSMrEWJeUeW88y+nl6lBZZp1SnS0EOA4MneGknLay5ntITF+UBLcy1LRJKJxzDL8NhC+bVd7U+n9ZwdZqDcxRZ6ul8ul2N337XYrHcRyrIcnk8Th1tR7a8wJz9e+VnZI0mEzxtlnFVy2UXkjmh3+NFPB8+qy+E0ni7380rMKepYqJ1jzNoLreGFvOCOH+XTjiGz7amhx8eI/zqvN/xJJ6Gux5OOLD3Xuy0Y1TduAqkZsBnPfWWVbFbXiNU+csdtZhaA7hzizcb/QaxW1Ev0xHq0+dVxVVWxHY8ulLIfnVLW4uuKmtzh/a7XK+mLlNam+tbvRFMTtpuq7mGW1NWm/w5L6WTrkGP9jWeP/RHyxlUG/cMVLxDKr2Y9oWv28PycKh64v4bo+p293UgnAc/61Gvg/hri5yKW+iW27uILLnuEAvcXEdvOQ2rEzj/JwL9r8QQF7i8i/kkBMu9bX26T+T7i+42LZ/0fLwL3V5HY54L861J8ASD3HbJ8iAL3V1Hh7PxA9LyvGAfur6PS+OwxyHtOqv2yAvcXUnpsFmzRm/j6xfXyzCW05POPj4+/D92HCXqyinhyPKzXh+Nt9uQP2f7U/wXhr68sYt+/vLZGo397aXVy/49/fV39aTT69//+8yvrb6PR//zlhfWf3dz/9MIi3P/8T68swv0v//zCCtyfo8D9KQrcf1GB+3MUuD9FgfsvKnB/jgL3pyhw/0UF7s/Rq3P/307uQUFBQUFBQUFBQUFBQUFBQUFBQUFBQUFBQU/S/wGPhR9JaAIbSwAAAABJRU5ErkJggg==)"
      ]
    },
    {
      "cell_type": "code",
      "source": [
        "from google.colab import drive\n",
        "drive.mount('/content/drive')"
      ],
      "metadata": {
        "id": "oz3jXyRYcVQ8",
        "outputId": "d9f11453-fb49-4555-f2ad-43199de0fcc1",
        "colab": {
          "base_uri": "https://localhost:8080/"
        }
      },
      "execution_count": null,
      "outputs": [
        {
          "output_type": "stream",
          "name": "stdout",
          "text": [
            "Mounted at /content/drive\n"
          ]
        }
      ]
    },
    {
      "cell_type": "markdown",
      "metadata": {
        "id": "vtwKGO3VjkY8"
      },
      "source": [
        "</b> <br>Consultor: Everton Menezes <br>"
      ]
    },
    {
      "cell_type": "markdown",
      "metadata": {
        "id": "KVBf28onjXEJ"
      },
      "source": [
        "# Operadores Aritméticos"
      ]
    },
    {
      "cell_type": "markdown",
      "metadata": {
        "id": "VxMqX_u4kNB2"
      },
      "source": [
        "<h1> Operações </h1>\n",
        "\n",
        "> Soma: `+`\n",
        "\n",
        "> Subtração: `-`\n",
        "\n",
        "> Multiplicação: `*`\n",
        "\n",
        "> Divisão: `/`\n",
        "\n",
        "> Potência: `**`\n",
        "\n",
        "> Divisão inteira: `//`\n",
        "\n",
        "> Resto da divisão: `%`\n",
        "\n",
        "<h3> Exemplos </h3>\n",
        "\n",
        "Dadas as variáveis: \n",
        "\n",
        "a = 7\n",
        "\n",
        "b = 2\n",
        "\n",
        "Faça as operações aritméticas acima\n"
      ]
    },
    {
      "cell_type": "code",
      "metadata": {
        "id": "Wgq6s8eCjHTf"
      },
      "source": [
        "# Declaração de variáveis\n",
        "a = 7\n",
        "b = 2"
      ],
      "execution_count": null,
      "outputs": []
    },
    {
      "cell_type": "code",
      "metadata": {
        "id": "M0aDRdc_jLcB",
        "outputId": "4a673835-3b4e-46c6-eef1-2d39509de998",
        "colab": {
          "base_uri": "https://localhost:8080/"
        }
      },
      "source": [
        "# Soma 7 + 2 == 9\n",
        "print(a+b)\n",
        "print(type(a+b))"
      ],
      "execution_count": null,
      "outputs": [
        {
          "output_type": "stream",
          "name": "stdout",
          "text": [
            "9\n",
            "<class 'int'>\n"
          ]
        }
      ]
    },
    {
      "cell_type": "code",
      "metadata": {
        "id": "6yPC6eH4jeHr",
        "outputId": "c23246c2-a1bf-4192-a5e7-f41bb7b89c3f",
        "colab": {
          "base_uri": "https://localhost:8080/"
        }
      },
      "source": [
        "# Subtração 7 - 2 == 5\n",
        "print(a-b)\n",
        "print(type(a-b))"
      ],
      "execution_count": null,
      "outputs": [
        {
          "output_type": "stream",
          "name": "stdout",
          "text": [
            "5\n",
            "<class 'int'>\n"
          ]
        }
      ]
    },
    {
      "cell_type": "code",
      "metadata": {
        "colab": {
          "base_uri": "https://localhost:8080/"
        },
        "id": "W2kL6nnSjkDe",
        "outputId": "85883fe2-deea-4ef5-c2ec-b953f6eb006d"
      },
      "source": [
        "# Multiplicação 7 * 2 == 14\n",
        "print(a * b)\n",
        "print(type(a*b))"
      ],
      "execution_count": null,
      "outputs": [
        {
          "output_type": "stream",
          "name": "stdout",
          "text": [
            "14\n",
            "<class 'int'>\n"
          ]
        }
      ]
    },
    {
      "cell_type": "code",
      "metadata": {
        "colab": {
          "base_uri": "https://localhost:8080/"
        },
        "id": "uxJL6vmAjqZJ",
        "outputId": "347404b2-ca9d-4494-d8bd-87610746c896"
      },
      "source": [
        "# Divisão 7 / 2 == 3.5 -> Observe que o resultado final é uma variável do tipo float\n",
        "print(a/b)\n",
        "print(type(a/b))"
      ],
      "execution_count": null,
      "outputs": [
        {
          "output_type": "stream",
          "name": "stdout",
          "text": [
            "3.5\n",
            "<class 'float'>\n"
          ]
        }
      ]
    },
    {
      "cell_type": "code",
      "metadata": {
        "colab": {
          "base_uri": "https://localhost:8080/"
        },
        "id": "RjieTeUIj6fx",
        "outputId": "415860ca-0ae0-4de2-96f8-1d629ed14bb2"
      },
      "source": [
        "# potência 7 ** 2 == 7 * 7 == 49\n",
        "print(7**2)\n",
        "print(type(7**2))"
      ],
      "execution_count": null,
      "outputs": [
        {
          "output_type": "stream",
          "name": "stdout",
          "text": [
            "49\n",
            "<class 'int'>\n"
          ]
        }
      ]
    },
    {
      "cell_type": "code",
      "metadata": {
        "id": "kHEipdhjkCKi",
        "outputId": "2bc9cdb7-c008-4385-c428-a9241c35da1f",
        "colab": {
          "base_uri": "https://localhost:8080/"
        }
      },
      "source": [
        "# divisão inteira e resto da divisão\n",
        "# 7 dividido por 2 é 3 inteiros mais 1 de resto. 3 * 2 + 1 == 7\n",
        "print(a // b)\n",
        "print(a % b)"
      ],
      "execution_count": null,
      "outputs": [
        {
          "output_type": "stream",
          "name": "stdout",
          "text": [
            "3\n",
            "1\n"
          ]
        }
      ]
    },
    {
      "cell_type": "markdown",
      "metadata": {
        "id": "njKNydTnk-p_"
      },
      "source": [
        "<h1> Operações com Textos 'str' </h1>\n",
        "\n",
        "Podemos utilizar 2 operações com textos:\n",
        "\n",
        "> Concatenar: `+`\n",
        "\n",
        "> Repetir: `*`"
      ]
    },
    {
      "cell_type": "code",
      "metadata": {
        "colab": {
          "base_uri": "https://localhost:8080/"
        },
        "id": "x8Z_bOyylVOY",
        "outputId": "54e0ae7f-3b49-499a-99b7-5a0343e1a092"
      },
      "source": [
        "# Concatenação de 2 textos\n",
        "nomePrimeiro = \"Adjalma\"\n",
        "nomeUltimo = \"Aguiar\"\n",
        "nomeCompleto = nomePrimeiro + ' ' + nomeUltimo\n",
        "print(nomeCompleto)"
      ],
      "execution_count": null,
      "outputs": [
        {
          "output_type": "stream",
          "name": "stdout",
          "text": [
            "Adjalma Aguiar\n"
          ]
        }
      ]
    },
    {
      "cell_type": "code",
      "metadata": {
        "id": "ThKF-zjQlsHp",
        "colab": {
          "base_uri": "https://localhost:8080/"
        },
        "outputId": "ce291745-c8db-4938-9d04-71c8d12002d0"
      },
      "source": [
        "# Repetir a palavra 'Olá' 5 vezes\n",
        "print ('Olá' * 5)"
      ],
      "execution_count": null,
      "outputs": [
        {
          "output_type": "stream",
          "name": "stdout",
          "text": [
            "OláOláOláOláOlá\n"
          ]
        }
      ]
    },
    {
      "cell_type": "markdown",
      "metadata": {
        "id": "Trdf_1wnl17h"
      },
      "source": [
        "<h3> Mini desafio </h3>\n",
        "\n",
        "Tente escrever um texto de boas vindas com print de modo que ele fique da seguinte forma:\n",
        "\n",
        "---\n",
        "\n",
        "<center>Seja Bem Vindo ao curso de Python da DNC </center>\n",
        "\n",
        "---\n"
      ]
    },
    {
      "cell_type": "code",
      "metadata": {
        "colab": {
          "base_uri": "https://localhost:8080/"
        },
        "id": "pxM_e6xkmX2m",
        "outputId": "cc2fcbf3-c53f-49f0-852a-4324bea51c70"
      },
      "source": [
        "# print com repetição\n",
        "print('+-'*40)\n",
        "print(' ')\n",
        "print(' '*20,'Seja bem vindo ao curso de python da DNC')\n",
        "print(' ')\n",
        "print('+-'*40)"
      ],
      "execution_count": null,
      "outputs": [
        {
          "output_type": "stream",
          "name": "stdout",
          "text": [
            "+-+-+-+-+-+-+-+-+-+-+-+-+-+-+-+-+-+-+-+-+-+-+-+-+-+-+-+-+-+-+-+-+-+-+-+-+-+-+-+-\n",
            " \n",
            "                     Seja bem vindo ao curso de python da DNC\n",
            " \n",
            "+-+-+-+-+-+-+-+-+-+-+-+-+-+-+-+-+-+-+-+-+-+-+-+-+-+-+-+-+-+-+-+-+-+-+-+-+-+-+-+-\n"
          ]
        }
      ]
    },
    {
      "cell_type": "markdown",
      "metadata": {
        "id": "e3Ar5asHm8aB"
      },
      "source": [
        "## Ordem de Precedência Aritmética\n"
      ]
    },
    {
      "cell_type": "markdown",
      "metadata": {
        "id": "HC3UP5rRniqD"
      },
      "source": [
        "1.   Parênteses: `( )`\n",
        "2.   Potência: `**`\n",
        "3.   Multiplicação, Divisão, Resto, Divisão inteira: `*`, `/`, `%`, `//`\n",
        "4.   Soma e Subtração: `+`, `-`\n",
        "\n",
        "<h2> Exercícios </h2>\n",
        "Para as contas abaixo utilize as variáveis:\n",
        "\n",
        "a = 5\n",
        "\n",
        "b = 7\n",
        "\n",
        "c = 3.45\n",
        "\n",
        "d = 5.50\n"
      ]
    },
    {
      "cell_type": "code",
      "metadata": {
        "id": "tnhT4Z8Fn1kS"
      },
      "source": [
        "# Declarando as variáveis:\n",
        "a = 5\n",
        "b = 7\n",
        "c = 3.45\n",
        "d = 5.50"
      ],
      "execution_count": null,
      "outputs": []
    },
    {
      "cell_type": "code",
      "metadata": {
        "colab": {
          "base_uri": "https://localhost:8080/"
        },
        "id": "jHS-usNSn-am",
        "outputId": "7b802128-db7e-44cf-a7e6-4649b02e67cc"
      },
      "source": [
        "# Quanto é: a + b * d\n",
        "print(a + b * d)"
      ],
      "execution_count": null,
      "outputs": [
        {
          "output_type": "stream",
          "name": "stdout",
          "text": [
            "43.5\n"
          ]
        }
      ]
    },
    {
      "cell_type": "code",
      "metadata": {
        "colab": {
          "base_uri": "https://localhost:8080/"
        },
        "id": "8l5ouiRPoLbg",
        "outputId": "693c9f2a-6269-4ce6-a0fe-476ed9404b3a"
      },
      "source": [
        "# Quanto é: (a + b) * d\n",
        "print((a + b) * d)"
      ],
      "execution_count": null,
      "outputs": [
        {
          "output_type": "stream",
          "name": "stdout",
          "text": [
            "66.0\n"
          ]
        }
      ]
    },
    {
      "cell_type": "code",
      "source": [],
      "metadata": {
        "id": "wtPUU8t5wNGx"
      },
      "execution_count": null,
      "outputs": []
    },
    {
      "cell_type": "code",
      "metadata": {
        "colab": {
          "base_uri": "https://localhost:8080/"
        },
        "id": "p00oyjjCoReA",
        "outputId": "f75777b2-4774-4124-8a03-7d1a54879605"
      },
      "source": [
        "# Quanto é: b ** a * c\n",
        "print(b ** a * c)"
      ],
      "execution_count": null,
      "outputs": [
        {
          "output_type": "stream",
          "name": "stdout",
          "text": [
            "57984.15\n"
          ]
        }
      ]
    },
    {
      "cell_type": "code",
      "metadata": {
        "colab": {
          "base_uri": "https://localhost:8080/"
        },
        "id": "UViM_AUioazD",
        "outputId": "b7527422-ae8d-4631-d38b-437d202d2c43"
      },
      "source": [
        "# Quanto é: b ** (a * c)\n",
        "print(b ** (a * c))"
      ],
      "execution_count": null,
      "outputs": [
        {
          "output_type": "stream",
          "name": "stdout",
          "text": [
            "378391341587299.8\n"
          ]
        }
      ]
    },
    {
      "cell_type": "markdown",
      "metadata": {
        "id": "-HU2xfeTpBrh"
      },
      "source": [
        "### Problema 1\n",
        "\n",
        "Fui numa hamburgueria e comprei 2 lanches de 10,90 cada, 3 refris de 4,50 cada e 1 batata por 8,45.\n",
        "\n",
        "O pagamento foi no dinheiro com uma notas de 10 reais e 5 reais. Pergunta-se:\n",
        "\n",
        "1.   Qual foi o valor total da conta?\n",
        "2.   Quantas notas de 10 reais eu usei?\n",
        "3.   Quantas notas de 5 reais eu usei?\n",
        "4.   Quanto voltou de troco pra mim em notas?\n",
        "5.   Quanto voltou de troco pra mim em moedas?"
      ]
    },
    {
      "cell_type": "code",
      "metadata": {
        "colab": {
          "base_uri": "https://localhost:8080/"
        },
        "id": "H7xJKFG5qC7K",
        "outputId": "81cfd6e7-2fe3-4982-8e54-549faf3c5e6f"
      },
      "source": [
        "# Declarando as variáveis\n",
        "lanchePreco = 10.90\n",
        "lancheQtd = 2\n",
        "refriPreco = 4.50\n",
        "refriQtd = 3\n",
        "batataPreco = 8.45\n",
        "batataQtd = 1\n",
        "contaTotal = lanchePreco*lancheQtd + refriPreco*refriQtd + batataPreco*batataQtd\n",
        "\n",
        "# Respondendo item 1:\n",
        "print('O valor total da conta foi de: R$',contaTotal)"
      ],
      "execution_count": null,
      "outputs": [
        {
          "output_type": "stream",
          "name": "stdout",
          "text": [
            "O valor total da conta foi de: R$ 43.75\n"
          ]
        }
      ]
    },
    {
      "cell_type": "code",
      "metadata": {
        "colab": {
          "base_uri": "https://localhost:8080/"
        },
        "id": "DaRtyB29qxlF",
        "outputId": "1cc0ba1b-d1c2-4d9e-84d9-fb67ce1b59d5"
      },
      "source": [
        "# Calculando item 2:\n",
        "nota10Qtd = contaTotal // 10\n",
        "valorFaltante = contaTotal - nota10Qtd*10\n",
        "\n",
        "print(nota10Qtd)\n",
        "print(valorFaltante)"
      ],
      "execution_count": null,
      "outputs": [
        {
          "output_type": "stream",
          "name": "stdout",
          "text": [
            "4.0\n",
            "3.75\n"
          ]
        }
      ]
    },
    {
      "cell_type": "code",
      "metadata": {
        "colab": {
          "base_uri": "https://localhost:8080/"
        },
        "id": "0rg2FUIXrU1q",
        "outputId": "4e4dc264-5f8c-4647-e1de-188885914f0c"
      },
      "source": [
        "# Respondendo item 2:\n",
        "# Já que o valorFaltante é menor que 5 reais, então não preciso gastar outra nota de 10\n",
        "\n",
        "print('Usei', nota10Qtd,'notas de 10 reais')"
      ],
      "execution_count": null,
      "outputs": [
        {
          "output_type": "stream",
          "name": "stdout",
          "text": [
            "Usei 4.0 notas de 10 reais\n"
          ]
        }
      ]
    },
    {
      "cell_type": "code",
      "metadata": {
        "colab": {
          "base_uri": "https://localhost:8080/"
        },
        "id": "i4nwRfH5rtCp",
        "outputId": "f04e75d7-9736-4cbb-9bc0-53e001fefef8"
      },
      "source": [
        "# Calculando item 3:\n",
        "nota5Qtd = valorFaltante // 5 + 1\n",
        "valorFaltante = valorFaltante - nota5Qtd * 5\n",
        "\n",
        "print(nota5Qtd)\n",
        "print(valorFaltante)"
      ],
      "execution_count": null,
      "outputs": [
        {
          "output_type": "stream",
          "name": "stdout",
          "text": [
            "1.0\n",
            "-1.25\n"
          ]
        }
      ]
    },
    {
      "cell_type": "code",
      "metadata": {
        "colab": {
          "base_uri": "https://localhost:8080/"
        },
        "id": "o6rZLRL9sGMl",
        "outputId": "440ff1a8-744f-4196-bc7d-554d3497a61b"
      },
      "source": [
        "# Respondendo item 3:\n",
        "# Já que o novo valorFaltante é menor do que 0 reias, então já paguei o que eu precisava. Não estou devendo\n",
        "\n",
        "print('Usei', nota5Qtd,'notas de 5 reais')"
      ],
      "execution_count": null,
      "outputs": [
        {
          "output_type": "stream",
          "name": "stdout",
          "text": [
            "Usei 1.0 notas de 5 reais\n"
          ]
        }
      ]
    },
    {
      "cell_type": "code",
      "metadata": {
        "colab": {
          "base_uri": "https://localhost:8080/"
        },
        "id": "z2_CwrX7seto",
        "outputId": "831a085b-6e54-4ebe-e545-52606e30fd29"
      },
      "source": [
        "# Calculando item 4:\n",
        "# Já que a única nota menor que 5 reais é a nota de 2 reais, temos que ver se ela é maior do que o Valor Faltante.\n",
        "\n",
        "nota2Qtd = (-valorFaltante) // 2\n",
        "valorFaltante = valorFaltante + nota2Qtd * 2\n",
        "\n",
        "print(nota2Qtd)\n",
        "print(valorFaltante)"
      ],
      "execution_count": null,
      "outputs": [
        {
          "output_type": "stream",
          "name": "stdout",
          "text": [
            "0.0\n",
            "-1.25\n"
          ]
        }
      ]
    },
    {
      "cell_type": "code",
      "metadata": {
        "colab": {
          "base_uri": "https://localhost:8080/"
        },
        "id": "bJiXktfgtNwm",
        "outputId": "bca1c64e-cf5a-413e-d563-e6f57fef6070"
      },
      "source": [
        "# Respondendo item 4:\n",
        "print('Recebi', nota2Qtd,'notas de 2 reais')"
      ],
      "execution_count": null,
      "outputs": [
        {
          "output_type": "stream",
          "name": "stdout",
          "text": [
            "Recebi 0.0 notas de 2 reais\n"
          ]
        }
      ]
    },
    {
      "cell_type": "code",
      "metadata": {
        "colab": {
          "base_uri": "https://localhost:8080/"
        },
        "id": "XmmSHHGmtaW8",
        "outputId": "85e74098-77d3-4cfb-d1ad-e39ad88a023e"
      },
      "source": [
        "# Calculando item 5:\n",
        "# Já que já recebemos tudo o que dava em notas, o que falta é somente as moedas\n",
        "\n",
        "moedaValor = 0 - valorFaltante\n",
        "valorFaltante = moedaValor + valorFaltante\n",
        "\n",
        "print(moedaValor)\n",
        "print(valorFaltante)"
      ],
      "execution_count": null,
      "outputs": [
        {
          "output_type": "stream",
          "name": "stdout",
          "text": [
            "1.25\n",
            "0.0\n"
          ]
        }
      ]
    },
    {
      "cell_type": "code",
      "metadata": {
        "colab": {
          "base_uri": "https://localhost:8080/"
        },
        "id": "Ds2Tjy6Ityzr",
        "outputId": "6155b593-b380-4f41-90d3-91ab773bb8a2"
      },
      "source": [
        "# Repondendo item 5:\n",
        "print('Recebi', moedaValor,'em moedas')"
      ],
      "execution_count": null,
      "outputs": [
        {
          "output_type": "stream",
          "name": "stdout",
          "text": [
            "Recebi 1.25 em moedas\n"
          ]
        }
      ]
    },
    {
      "cell_type": "markdown",
      "metadata": {
        "id": "iYpVHWJwufO4"
      },
      "source": [
        "# Transformando Variáveis"
      ]
    },
    {
      "cell_type": "markdown",
      "metadata": {
        "id": "UqDEfMQEupdH"
      },
      "source": [
        "Utilizamos as seguintes funções para transformar os tipos das variáveis:\n",
        "\n",
        "> Para transformar para string: str( )\n",
        "\n",
        "> Para transformar para inteiro: int( )\n",
        "\n",
        "> Para transformar para real: float( )\n",
        "\n",
        "Essa funcionalidade é muito utilizada para tratar os dados de inputs de usuários e/ou para tratar dados importados de outras fontes e bancos de dados."
      ]
    },
    {
      "cell_type": "markdown",
      "metadata": {
        "id": "Jm8XODPVvFDC"
      },
      "source": [
        "<h3> Exemplos </h3>\n",
        "\n",
        "Vamos utilizar as seguintes variáveis:\n",
        "\n",
        "a = 1.857\n",
        "\n",
        "b = '4'\n",
        "\n",
        "c = True\n",
        "\n",
        "d = False\n",
        "\n",
        "e = 'tex34'\n",
        "\n",
        "<h3> Usando o int( ) </h3>\n",
        "\n",
        "Transforme as variáveis acima para int"
      ]
    },
    {
      "cell_type": "code",
      "metadata": {
        "id": "85vAdgBdvChP"
      },
      "source": [
        "# Declarando as variáveis\n",
        "a = 1.857\n",
        "b = '4'\n",
        "c = True\n",
        "d = False\n",
        "e = 'tex34'"
      ],
      "execution_count": null,
      "outputs": []
    },
    {
      "cell_type": "code",
      "metadata": {
        "colab": {
          "base_uri": "https://localhost:8080/"
        },
        "id": "KC9rYFC4vqe6",
        "outputId": "a7997408-18f5-4a8d-cf3e-df5e115665c7"
      },
      "source": [
        "# int(a) \n",
        "int(a)"
      ],
      "execution_count": null,
      "outputs": [
        {
          "output_type": "execute_result",
          "data": {
            "text/plain": [
              "1"
            ]
          },
          "metadata": {},
          "execution_count": 64
        }
      ]
    },
    {
      "cell_type": "markdown",
      "metadata": {
        "id": "js7VhpTHv3XI"
      },
      "source": [
        "Observe que na variável \"a\" foi pega a parte inteira da variável e desprezados os algarismos após a vírgula"
      ]
    },
    {
      "cell_type": "code",
      "metadata": {
        "colab": {
          "base_uri": "https://localhost:8080/"
        },
        "id": "7Yv0IRnqvyHn",
        "outputId": "c81c440e-ff43-4f54-a388-7a8490059324"
      },
      "source": [
        "# int(b)\n",
        "int(b)"
      ],
      "execution_count": null,
      "outputs": [
        {
          "output_type": "execute_result",
          "data": {
            "text/plain": [
              "4"
            ]
          },
          "metadata": {},
          "execution_count": 65
        }
      ]
    },
    {
      "cell_type": "code",
      "metadata": {
        "colab": {
          "base_uri": "https://localhost:8080/"
        },
        "id": "W_a7B_SIwH7_",
        "outputId": "9a4fb8c1-c6ea-484e-889b-2304b29a54b0"
      },
      "source": [
        "# int(c)\n",
        "int(c)"
      ],
      "execution_count": null,
      "outputs": [
        {
          "output_type": "execute_result",
          "data": {
            "text/plain": [
              "1"
            ]
          },
          "metadata": {},
          "execution_count": 66
        }
      ]
    },
    {
      "cell_type": "code",
      "metadata": {
        "colab": {
          "base_uri": "https://localhost:8080/"
        },
        "id": "CayRdVqmwNn5",
        "outputId": "a31059e8-a203-42cb-d18e-8eae9d1c156c"
      },
      "source": [
        "# int(d)\n",
        "int(d)"
      ],
      "execution_count": null,
      "outputs": [
        {
          "output_type": "execute_result",
          "data": {
            "text/plain": [
              "0"
            ]
          },
          "metadata": {},
          "execution_count": 67
        }
      ]
    },
    {
      "cell_type": "markdown",
      "metadata": {
        "id": "9F0aBA6cwSo9"
      },
      "source": [
        "Observe que nas variáveis \"c\" e \"d\" os 'True's foram convertidos em 1 e os 'False's foram convertidos em 0. Essa é uma outra propriedade muito usada em programação.\n",
        "\n",
        "Condições Verdadeiras podem ser comparadas com 1 (e até usadas em cálculos)\n",
        "\n",
        "Condições Falsas podem ser comparadas com 0"
      ]
    },
    {
      "cell_type": "code",
      "metadata": {
        "id": "NTmM_HuHwoGh"
      },
      "source": [
        "# int(e)\n",
        "#int(e)"
      ],
      "execution_count": null,
      "outputs": []
    },
    {
      "cell_type": "markdown",
      "metadata": {
        "id": "Zzz3yIwewugQ"
      },
      "source": [
        "Observe que nem sempre conseguiremos converter todas as variáveis."
      ]
    },
    {
      "cell_type": "markdown",
      "metadata": {
        "id": "mqu6YBDHw8kw"
      },
      "source": [
        "<h3> Usando o float( ) </h3>\n",
        "\n",
        "Transforme as mesmas variáveis acima para float\n",
        "\n",
        "Mude \"a\" para 1"
      ]
    },
    {
      "cell_type": "code",
      "metadata": {
        "colab": {
          "base_uri": "https://localhost:8080/"
        },
        "id": "KePyF0YJxFPH",
        "outputId": "ba2994d9-22c3-4802-9a9b-a365c7303cd3"
      },
      "source": [
        "a = 1\n",
        "\n",
        "# float(a) \n",
        "float(a)"
      ],
      "execution_count": null,
      "outputs": [
        {
          "output_type": "execute_result",
          "data": {
            "text/plain": [
              "1.0"
            ]
          },
          "metadata": {},
          "execution_count": 70
        }
      ]
    },
    {
      "cell_type": "code",
      "metadata": {
        "colab": {
          "base_uri": "https://localhost:8080/"
        },
        "id": "RUFl64xhxXcm",
        "outputId": "54320da0-48c0-4eba-d196-cc3ca6b608f5"
      },
      "source": [
        "# float(b)\n",
        "float(b)"
      ],
      "execution_count": null,
      "outputs": [
        {
          "output_type": "execute_result",
          "data": {
            "text/plain": [
              "4.0"
            ]
          },
          "metadata": {},
          "execution_count": 71
        }
      ]
    },
    {
      "cell_type": "markdown",
      "metadata": {
        "id": "QRKiD1GUxe2V"
      },
      "source": [
        "Observe que mesmo que as variáveis não tenham casas decimais quando elas são convertidas para float o próprio Python já adiciona pelo menos uma casa decimal a ela."
      ]
    },
    {
      "cell_type": "code",
      "metadata": {
        "colab": {
          "base_uri": "https://localhost:8080/"
        },
        "id": "-yxdBm6Wxdu-",
        "outputId": "ff6d870f-6695-46af-9f7b-168cd8520335"
      },
      "source": [
        "# float(c)\n",
        "float(c)"
      ],
      "execution_count": null,
      "outputs": [
        {
          "output_type": "execute_result",
          "data": {
            "text/plain": [
              "1.0"
            ]
          },
          "metadata": {},
          "execution_count": 72
        }
      ]
    },
    {
      "cell_type": "code",
      "metadata": {
        "colab": {
          "base_uri": "https://localhost:8080/"
        },
        "id": "KDKjqDhhxsa3",
        "outputId": "bb5c5cec-6484-4ffd-e211-7eb4c6933f65"
      },
      "source": [
        "# float(d)\n",
        "float(d)"
      ],
      "execution_count": null,
      "outputs": [
        {
          "output_type": "execute_result",
          "data": {
            "text/plain": [
              "0.0"
            ]
          },
          "metadata": {},
          "execution_count": 73
        }
      ]
    },
    {
      "cell_type": "code",
      "metadata": {
        "id": "YGWM5SCFxvF1"
      },
      "source": [
        "# float(e)\n",
        "#float(e)"
      ],
      "execution_count": null,
      "outputs": []
    },
    {
      "cell_type": "markdown",
      "metadata": {
        "id": "1ZAFj0ylxzuK"
      },
      "source": [
        "Observe que o erro é até diferente do erro que apareceu no int mas mesmo assim ainda apareceu o erro. Também não é sempre que conseguiremos converter as variáveis para float."
      ]
    },
    {
      "cell_type": "markdown",
      "metadata": {
        "id": "D6RnS4-wyAnl"
      },
      "source": [
        "<h3> Usando o str( ) </h3>\n",
        "\n",
        "Transforme as mesmas variáveis acima para float\n",
        "\n",
        "Mude b para 2.758"
      ]
    },
    {
      "cell_type": "code",
      "metadata": {
        "colab": {
          "base_uri": "https://localhost:8080/",
          "height": 35
        },
        "id": "JCtPsiiByKjc",
        "outputId": "0b526965-238b-4bf2-a832-ae2268b2b7d6"
      },
      "source": [
        "b = 2.758\n",
        "\n",
        "# str(a) \n",
        "str(a)"
      ],
      "execution_count": null,
      "outputs": [
        {
          "output_type": "execute_result",
          "data": {
            "text/plain": [
              "'1'"
            ],
            "application/vnd.google.colaboratory.intrinsic+json": {
              "type": "string"
            }
          },
          "metadata": {},
          "execution_count": 76
        }
      ]
    },
    {
      "cell_type": "code",
      "metadata": {
        "colab": {
          "base_uri": "https://localhost:8080/",
          "height": 35
        },
        "id": "nGc9BSAXyPBH",
        "outputId": "0b45296a-cf53-4f07-a849-2676d104459c"
      },
      "source": [
        "# str(b) \n",
        "str(b)"
      ],
      "execution_count": null,
      "outputs": [
        {
          "output_type": "execute_result",
          "data": {
            "text/plain": [
              "'2.758'"
            ],
            "application/vnd.google.colaboratory.intrinsic+json": {
              "type": "string"
            }
          },
          "metadata": {},
          "execution_count": 77
        }
      ]
    },
    {
      "cell_type": "markdown",
      "metadata": {
        "id": "hALM8F-wyS5c"
      },
      "source": [
        "Observe que o str basicamente pega os valores numéricos e coloca entre aspas para fazer essa transformação"
      ]
    },
    {
      "cell_type": "code",
      "metadata": {
        "colab": {
          "base_uri": "https://localhost:8080/",
          "height": 35
        },
        "id": "FJnrjIK_yZZ2",
        "outputId": "d32077b9-86b7-473e-9920-0513b0ddcbcb"
      },
      "source": [
        "# str(c) \n",
        "str(c)"
      ],
      "execution_count": null,
      "outputs": [
        {
          "output_type": "execute_result",
          "data": {
            "text/plain": [
              "'True'"
            ],
            "application/vnd.google.colaboratory.intrinsic+json": {
              "type": "string"
            }
          },
          "metadata": {},
          "execution_count": 78
        }
      ]
    },
    {
      "cell_type": "code",
      "metadata": {
        "colab": {
          "base_uri": "https://localhost:8080/",
          "height": 35
        },
        "id": "rqH7mXepybkl",
        "outputId": "9c396288-ad80-4709-a785-a76fdb1241b6"
      },
      "source": [
        "# str(d) \n",
        "str(d)"
      ],
      "execution_count": null,
      "outputs": [
        {
          "output_type": "execute_result",
          "data": {
            "text/plain": [
              "'False'"
            ],
            "application/vnd.google.colaboratory.intrinsic+json": {
              "type": "string"
            }
          },
          "metadata": {},
          "execution_count": 79
        }
      ]
    },
    {
      "cell_type": "markdown",
      "metadata": {
        "id": "d00u82qCyhTE"
      },
      "source": [
        "O mesmo acontece com as variáveis Booleanas."
      ]
    },
    {
      "cell_type": "markdown",
      "metadata": {
        "id": "vNUx8bgyykBX"
      },
      "source": [
        "# Impressão personalizada\n",
        "\n",
        "<h3>print( ) com .format( )</h3>"
      ]
    },
    {
      "cell_type": "markdown",
      "metadata": {
        "id": "Ox0xJm_dzGvY"
      },
      "source": [
        "Para fazer um print mais organizado podemos utilizar o chamado de **Máscaras** `{}` para dizer para o print onde que queremos que cada variável apareça.\n",
        "\n",
        "Depois basta usar o **Método** `.format( )` para dizer quais variáveis serão colocadas dentro do print.\n",
        "\n",
        "<h3>Vamos para o exemplo?</h3>"
      ]
    },
    {
      "cell_type": "code",
      "metadata": {
        "colab": {
          "base_uri": "https://localhost:8080/"
        },
        "id": "RAmcyVbjzn5C",
        "outputId": "bf76093f-9d7a-4bda-c73f-a7c35fa4cdbc"
      },
      "source": [
        "# print comum:\n",
        "print('Você pediu um lanche de: R$',lanchePreco,'e uma batata de: R$',batataPreco, 'totalizando: R$',lanchePreco+batataPreco)"
      ],
      "execution_count": null,
      "outputs": [
        {
          "output_type": "stream",
          "name": "stdout",
          "text": [
            "Você pediu um lanche de: R$ 10.9 e uma batata de: R$ 8.45 totalizando: R$ 19.35\n"
          ]
        }
      ]
    },
    {
      "cell_type": "code",
      "metadata": {
        "colab": {
          "base_uri": "https://localhost:8080/"
        },
        "id": "EBoMGKGSz-Um",
        "outputId": "e8501f28-eae8-4f06-a0d6-7441f56e8ea3"
      },
      "source": [
        "# print formatado\n",
        "print('Você pediu um lanche de R$ {} e uma batata de: R$ {} totalizando R$ {}'.format(lanchePreco,batataPreco,lanchePreco+batataPreco))"
      ],
      "execution_count": null,
      "outputs": [
        {
          "output_type": "stream",
          "name": "stdout",
          "text": [
            "Você pediu um lanche de R$ 10.9 e uma batata de: R$ 8.45 totalizando R$ 19.35\n"
          ]
        }
      ]
    },
    {
      "cell_type": "markdown",
      "metadata": {
        "id": "8vr61Nce0ZTd"
      },
      "source": [
        "<h2> Personalizando ainda mais a Máscara </h2>\n",
        "\n",
        "Dentro da máscara temos:\n",
        "\n",
        "{0:10.2f}\n",
        "\n",
        "> `0` -> posição que a variável aparece dentro do .format( ). [pode ser deixado em branco]\n",
        "\n",
        "> `:` -> separador a partir dele começamos as formatações\n",
        "\n",
        "> `10` -> separamos 10 casas (caracteres) dentro do print para mostrarmos o número\n",
        "\n",
        "> `.` -> a partir do ponto, estamos formatando os valores após a vírgula decimal\n",
        "\n",
        "> `2` -> qtd de casas decimais\n",
        "\n",
        "> `f` -> para float ou d -> para inteiro\n",
        "\n",
        "<h3> Exemplo </h3>\n",
        "\n",
        "plote as variáveis abaixo:\n",
        "\n",
        "a = 245\n",
        "\n",
        "b = 2.835895"
      ]
    },
    {
      "cell_type": "code",
      "metadata": {
        "colab": {
          "base_uri": "https://localhost:8080/"
        },
        "id": "0DnomfvO1Tdt",
        "outputId": "de80e4ec-357e-446d-a51b-bec7ab8a9c91"
      },
      "source": [
        "# Exemplo\n",
        "a = 245\n",
        "b = 2.835895\n",
        "print('| {0:10} | e | {1:10.3f} |'.format(a,b))"
      ],
      "execution_count": null,
      "outputs": [
        {
          "output_type": "stream",
          "name": "stdout",
          "text": [
            "|        245 | e |      2.836 |\n"
          ]
        }
      ]
    },
    {
      "cell_type": "markdown",
      "metadata": {
        "id": "MOWtK7qq19xH"
      },
      "source": [
        "# Exercícios"
      ]
    },
    {
      "cell_type": "markdown",
      "metadata": {
        "id": "-iv-TYoR2nQR"
      },
      "source": [
        "## Exercício 1:\n",
        "\n",
        "Vamos testar os comportamentos dos diferentes operadores aritméticos. Para isso vamos montar uma calculadora, eai? Bora, vamos nessa?\n",
        "\n",
        "Criar variáveis n1 e n2 que receberão inputs do tipo INT do usuário. (não se esqueça de tratar o que está sendo recebido rsrs)\n",
        "Exibir o resultado da Adição dessas 2 variáveis.\n",
        "Exibir o resultado da Subtração dessas variáveis.\n",
        "Exibir o resultado da Multiplicação dessas variáveis.\n",
        "Exibir o resultado da Divisão dessas variáveis.\n",
        "Exibir o resultado do Módulo (Resto da divisão) entre essas variáveis.\n",
        "Exibir o resultado de uma variável Exponenciando a outra.\n",
        "[ ]\n"
      ]
    },
    {
      "cell_type": "markdown",
      "metadata": {
        "id": "GGb-CkcQ4fRv"
      },
      "source": [
        "<h3> Resultado Esperado </h3>\n",
        "\n",
        "![image.png](data:image/png;base64,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)"
      ]
    },
    {
      "cell_type": "code",
      "metadata": {
        "colab": {
          "base_uri": "https://localhost:8080/"
        },
        "id": "H1r04WIv2tPX",
        "outputId": "5e8d971f-4f74-481c-afd9-c214445d5e14"
      },
      "source": [
        "n1 = 7\n",
        "n2 = 5\n",
        "print(n1 + n2)\n",
        "print(n1 - n2)\n",
        "print(n1 * n2)\n",
        "print(n1 / n2)\n",
        "print(n1 % n2)\n",
        "print(n1 ** n2)"
      ],
      "execution_count": null,
      "outputs": [
        {
          "output_type": "stream",
          "name": "stdout",
          "text": [
            "12\n",
            "2\n",
            "35\n",
            "1.4\n",
            "2\n",
            "16807\n"
          ]
        }
      ]
    },
    {
      "cell_type": "markdown",
      "metadata": {
        "id": "Clm7jvJM3Obi"
      },
      "source": [
        "## Exercício 2:\n",
        "Faça um programa que o usuário digita um valor inteiro e nós mostramos toda a tabuada daquele número."
      ]
    },
    {
      "cell_type": "markdown",
      "metadata": {
        "id": "5BcPwWeb4udL"
      },
      "source": [
        "<h3> Resultado Esperado </h3>\n",
        "\n",
        "![image.png](data:image/png;base64,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)"
      ]
    },
    {
      "cell_type": "code",
      "metadata": {
        "colab": {
          "base_uri": "https://localhost:8080/"
        },
        "id": "VjVbpsVc3eL4",
        "outputId": "d73787cc-d4e4-4828-d568-cb09f2607bdb"
      },
      "source": [
        "Tabuada = int(input('Digite um numero inteiro: '))\n",
        "print('-'*20)\n",
        "print(\"13 * 0 = \",Tabuada * 0)\n",
        "print(\"13 * 1 = \",Tabuada * 1)\n",
        "print(\"13 * 2 = \",Tabuada * 2)\n",
        "print(\"13 * 3 = \",Tabuada * 3)\n",
        "print(\"13 * 4 = \",Tabuada * 4)\n",
        "print(\"13 * 5 = \",Tabuada * 5)\n",
        "print(\"13 * 6 = \",Tabuada * 6)\n",
        "print(\"13 * 7 = \",Tabuada * 7)\n",
        "print(\"13 * 8 = \",Tabuada * 8)\n",
        "print(\"13 * 9 = \",Tabuada * 9)\n",
        "print(\"13 *10 = \" ,Tabuada * 10)"
      ],
      "execution_count": null,
      "outputs": [
        {
          "output_type": "stream",
          "name": "stdout",
          "text": [
            "Digite um numero inteiro: 13\n",
            "--------------------\n",
            "13 * 0 =  0\n",
            "13 * 1 =  13\n",
            "13 * 2 =  26\n",
            "13 * 3 =  39\n",
            "13 * 4 =  52\n",
            "13 * 5 =  65\n",
            "13 * 6 =  78\n",
            "13 * 7 =  91\n",
            "13 * 8 =  104\n",
            "13 * 9 =  117\n",
            "13 *10 =  130\n"
          ]
        }
      ]
    },
    {
      "cell_type": "code",
      "metadata": {
        "colab": {
          "base_uri": "https://localhost:8080/"
        },
        "outputId": "f9546f6a-ade3-433a-c387-f34ff0ab1ca7",
        "id": "bvWtroVnZT99"
      },
      "source": [
        "tabuada=int(input(\"Digite um numero inteiro: \"))\n",
        "print('-'*20)\n",
        "for count in range(10):\n",
        "    print(\"%d * %d = %d\" % (tabuada, count+1, tabuada*(count+1)) )"
      ],
      "execution_count": null,
      "outputs": [
        {
          "output_type": "stream",
          "name": "stdout",
          "text": [
            "Digite um numero inteiro: 13\n",
            "--------------------\n",
            "13 * 1 = 13\n",
            "13 * 2 = 26\n",
            "13 * 3 = 39\n",
            "13 * 4 = 52\n",
            "13 * 5 = 65\n",
            "13 * 6 = 78\n",
            "13 * 7 = 91\n",
            "13 * 8 = 104\n",
            "13 * 9 = 117\n",
            "13 * 10 = 130\n"
          ]
        }
      ]
    },
    {
      "cell_type": "markdown",
      "metadata": {
        "id": "RA4lGh6Q5MzX"
      },
      "source": [
        "## Exercício 3:\n",
        "\n",
        "Faça um programa no qual o usuário digite a distância percorrida por um carro e a qtd de litros de combustível gasto.\n",
        "\n",
        "Calcule e mostre para o usuário quantos km/l o seu carro faz."
      ]
    },
    {
      "cell_type": "markdown",
      "metadata": {
        "id": "AxJ-g5Ow6DxO"
      },
      "source": [
        "<h3> Resultado Esperado </h3>\n",
        "\n",
        "![image.png](data:image/png;base64,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)"
      ]
    },
    {
      "cell_type": "code",
      "metadata": {
        "colab": {
          "base_uri": "https://localhost:8080/"
        },
        "id": "xcWjzQDV5kMp",
        "outputId": "8ddb5fcc-6b46-477f-bb53-2d619fab8657"
      },
      "source": [
        "km = 200\n",
        "qComb = 12\n",
        "kml = (km / qComb)\n",
        "kml = 16.67\n",
        "print('Quantos quilometros você rodou com seu carro?',km)\n",
        "print('Quantos litros de combustível foi gasto',qComb)\n",
        "print('O seu carro faz', kml,\"km/l\")"
      ],
      "execution_count": null,
      "outputs": [
        {
          "output_type": "stream",
          "name": "stdout",
          "text": [
            "Quantos quilometros você rodou com seu carro? 200\n",
            "Quantos litros de combustível foi gasto 12\n",
            "O seu carro faz 16.67 km/l\n"
          ]
        }
      ]
    },
    {
      "cell_type": "code",
      "source": [],
      "metadata": {
        "id": "BHGur63Nu_eu"
      },
      "execution_count": null,
      "outputs": []
    }
  ]
}